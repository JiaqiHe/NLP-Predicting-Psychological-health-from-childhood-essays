{
 "cells": [
  {
   "cell_type": "markdown",
   "metadata": {},
   "source": [
    "# Formalize and Save Data"
   ]
  },
  {
   "cell_type": "markdown",
   "metadata": {},
   "source": [
    "Read essays, depression and anxiety from different files and concatenate them into a dictionary containing all info needed for further exploration."
   ]
  },
  {
   "cell_type": "code",
   "execution_count": 1,
   "metadata": {
    "ExecuteTime": {
     "end_time": "2018-06-12T19:36:26.172589Z",
     "start_time": "2018-06-12T19:36:24.007525Z"
    },
    "scrolled": true
   },
   "outputs": [
    {
     "name": "stderr",
     "output_type": "stream",
     "text": [
      "/opt/conda/lib/python3.6/site-packages/h5py/__init__.py:36: FutureWarning: Conversion of the second argument of issubdtype from `float` to `np.floating` is deprecated. In future, it will be treated as `np.float64 == np.dtype(float).type`.\n",
      "  from ._conv import register_converters as _register_converters\n",
      "Using TensorFlow backend.\n"
     ]
    }
   ],
   "source": [
    "# !pip install gensim scikit-plot nltk keras tqdm\n",
    "#############################################\n",
    "%matplotlib inline\n",
    "import pandas as pd\n",
    "import numpy as np\n",
    "import os\n",
    "import pickle\n",
    "from functools import reduce\n",
    "\n",
    "from sklearn.model_selection import train_test_split\n",
    "from sklearn.metrics import log_loss, accuracy_score\n",
    "from sklearn.feature_extraction.text import CountVectorizer\n",
    "from sklearn.decomposition import TruncatedSVD\n",
    "from sklearn.ensemble import RandomForestClassifier\n",
    "\n",
    "import gensim\n",
    "import re, collections\n",
    "import string\n",
    "import scikitplot.plotters as skplt\n",
    "\n",
    "import nltk\n",
    "from nltk.corpus import stopwords\n",
    "\n",
    "from xgboost import XGBClassifier\n",
    "import xgboost as xgb\n",
    "\n",
    "from keras.preprocessing.text import Tokenizer\n",
    "from keras.preprocessing.sequence import pad_sequences\n",
    "from keras.models import Sequential\n",
    "from keras.layers import Dense, Embedding, LSTM\n",
    "from keras.utils.np_utils import to_categorical\n",
    "from keras.callbacks import ModelCheckpoint\n",
    "from keras.models import load_model\n",
    "from keras.optimizers import Adam\n",
    "from tqdm import tqdm"
   ]
  },
  {
   "cell_type": "code",
   "execution_count": 2,
   "metadata": {
    "ExecuteTime": {
     "end_time": "2018-06-12T19:36:27.708816Z",
     "start_time": "2018-06-12T19:36:27.627656Z"
    },
    "scrolled": false
   },
   "outputs": [
    {
     "name": "stdout",
     "output_type": "stream",
     "text": [
      "[nltk_data] Downloading package stopwords to /home/jovyan/nltk_data...\n",
      "[nltk_data]   Package stopwords is already up-to-date!\n"
     ]
    },
    {
     "data": {
      "text/plain": [
       "True"
      ]
     },
     "execution_count": 2,
     "metadata": {},
     "output_type": "execute_result"
    }
   ],
   "source": [
    "nltk.download('stopwords')"
   ]
  },
  {
   "cell_type": "code",
   "execution_count": 3,
   "metadata": {
    "ExecuteTime": {
     "end_time": "2018-06-12T19:36:31.326456Z",
     "start_time": "2018-06-12T19:36:30.804377Z"
    }
   },
   "outputs": [],
   "source": [
    "def words(text):\n",
    "    return re.findall('[a-z]+', text.lower())\n",
    "def train(features):\n",
    "    model = collections.defaultdict(lambda: 1)\n",
    "    for f in features:\n",
    "        model[f] += 1\n",
    "    return model\n",
    "\n",
    "NWORDS = train(words(open('big.txt').read()))\n",
    "alphabet = 'abcdefghijklmnopqrstuvwxyz'\n",
    "\n",
    "def edits1(word):\n",
    "    splits = [(word[:i], word[i:]) for i in range(len(word) + 1)]\n",
    "    deletes = [a + b[1:] for a, b in splits if b]\n",
    "    transposes = [a + b[1] + b[0] + b[2:] for a, b in splits if len(b)>1]\n",
    "    replaces = [a + c + b[1:] for a, b in splits for c in alphabet if b]\n",
    "    inserts = [a + c + b for a, b in splits for c in alphabet]\n",
    "    return set(deletes + transposes + replaces + inserts)\n",
    "\n",
    "def known_edits2(word):\n",
    "    return set(e2 for e1 in edits1(word) for e2 in edits1(e1) if e2 in NWORDS)\n",
    "\n",
    "def known(words):\n",
    "    return set(w for w in words if w in NWORDS)\n",
    "\n",
    "def correct(word):\n",
    "    candidates = known([word]) or known(edits1(word)) or known_edits2(word) or [word]\n",
    "    return max(candidates, key=NWORDS.get)"
   ]
  },
  {
   "cell_type": "code",
   "execution_count": 4,
   "metadata": {
    "ExecuteTime": {
     "end_time": "2018-06-12T19:36:32.516493Z",
     "start_time": "2018-06-12T19:36:32.495807Z"
    }
   },
   "outputs": [],
   "source": [
    "def modifyText(text):\n",
    "    sw = set(stopwords.words('english'))\n",
    "    text = re.sub(r'\\[[a-zA-Z ]+\\]|\\r\\n', '', text)\n",
    "    regex = re.compile('[%s]' % re.escape(string.punctuation))\n",
    "    text = regex.sub('', text)\n",
    "    mod = ''\n",
    "    counter = 0\n",
    "    words_count = 0\n",
    "    for word in text.split(' '):\n",
    "        new_word = correct(word.lower())\n",
    "        if new_word not in sw:\n",
    "            mod += new_word + ' '\n",
    "            words_count += 1\n",
    "            if(new_word != word.lower()):\n",
    "                counter += 1\n",
    "    return mod, counter, words_count"
   ]
  },
  {
   "cell_type": "code",
   "execution_count": 5,
   "metadata": {
    "ExecuteTime": {
     "end_time": "2018-06-12T19:36:35.148011Z",
     "start_time": "2018-06-12T19:36:35.136032Z"
    }
   },
   "outputs": [],
   "source": [
    "def processFile(filename):\n",
    "    global data\n",
    "    f = open(filename)\n",
    "    with open(filename, 'rb') as f:\n",
    "        texts = []\n",
    "        for line in f:\n",
    "            texts.append(line.decode(errors='ignore'))\n",
    "        text = reduce(lambda x, y : x + y , texts[2:])\n",
    "        words = filename.split(\"-\")\n",
    "        key = words[-1].split(\".\")[0].upper()\n",
    "        data[key] = dict({\"essay\": text})"
   ]
  },
  {
   "cell_type": "code",
   "execution_count": 8,
   "metadata": {
    "ExecuteTime": {
     "end_time": "2018-06-12T19:37:28.969550Z",
     "start_time": "2018-06-12T19:37:28.851234Z"
    }
   },
   "outputs": [],
   "source": [
    "#############################################\n",
    "def getData(data_filename, preprocess=True):\n",
    "    global data\n",
    "    global counters\n",
    "    global words_counts\n",
    "    if os.path.exists(data_filename):\n",
    "        with open(data_filename, 'rb') as fp:\n",
    "            data = pickle.load(fp)\n",
    "    else:\n",
    "        directory = \"./essays/rtf/\"\n",
    "        counter = 0\n",
    "        for filename in os.listdir(directory):\n",
    "            if filename.endswith(\".rtf\"):\n",
    "                processFile(directory + filename)\n",
    "                counter += 1\n",
    "        print(\"There are {0} essays.\".format(counter))\n",
    "        f = open(\"./277labels/labels.csv\")\n",
    "        complete_entries_list = []\n",
    "        for line in f:\n",
    "            entries = line.split(\",\")\n",
    "            key = entries[0]\n",
    "            depression = entries[1]\n",
    "            anxiety = entries[2]\n",
    "            if(key == \"ncdsid\" or depression == \"$null$\" or anxiety == \"$null$\"):\n",
    "                continue\n",
    "            else:\n",
    "                depression = float(depression)\n",
    "                anxiety = float(anxiety)\n",
    "                if(key not in data or depression == -1.0 or anxiety == -1.0):\n",
    "                    if key in data:\n",
    "                        deleted = data.pop(key)\n",
    "                    continue\n",
    "                else:\n",
    "                    data[key][\"anxiety\"] = anxiety\n",
    "                    data[key][\"depression\"] = depression\n",
    "                    counter += 1\n",
    "                    complete_entries_list.append(key)\n",
    "        print(\"There are {0} entries that have complete info.\".format(len(complete_entries_list)))\n",
    "        selected = dict({})\n",
    "        for key in complete_entries_list:\n",
    "            selected[key] = data[key]\n",
    "            selected[key][\"essay\"] = re.sub(r'[0-9]+[a-zA-Zx*]*\\s|words ', '', selected[key][\"essay\"])\n",
    "        if preprocess:\n",
    "            for i in tqdm(range(len(complete_entries_list))):\n",
    "                key = complete_entries_list[i]\n",
    "                selected[key]['essay'], counter, words_count = modifyText(selected[key]['essay'])\n",
    "                counters.append(counter)\n",
    "                words_counts.append(words_count)\n",
    "        with open(data_filename, 'wb') as fp:\n",
    "            pickle.dump(selected, fp, protocol=2)\n",
    "        data = selected\n",
    "    return data, counters, words_counts"
   ]
  },
  {
   "cell_type": "code",
   "execution_count": 9,
   "metadata": {
    "ExecuteTime": {
     "end_time": "2018-06-12T20:22:08.154567Z",
     "start_time": "2018-06-12T19:37:30.959217Z"
    },
    "scrolled": true
   },
   "outputs": [
    {
     "name": "stdout",
     "output_type": "stream",
     "text": [
      "There are 10511 essays.\n",
      "There are 9455 entries that have complete info.\n"
     ]
    },
    {
     "name": "stderr",
     "output_type": "stream",
     "text": [
      "100%|██████████| 9455/9455 [44:06<00:00,  3.57it/s]\n"
     ]
    }
   ],
   "source": [
    "#############################################\n",
    "data = dict({})\n",
    "counters = []\n",
    "words_counts = []\n",
    "data, counters, words_counts = getData('data_modified_count.p')"
   ]
  },
  {
   "cell_type": "code",
   "execution_count": 29,
   "metadata": {
    "ExecuteTime": {
     "end_time": "2018-06-12T20:40:00.776436Z",
     "start_time": "2018-06-12T20:40:00.710565Z"
    }
   },
   "outputs": [],
   "source": [
    "data = dict({})\n",
    "counters1 = []\n",
    "words_counts1 = []\n",
    "data, counters1, words_counts1 = getData('data_modified.p')"
   ]
  },
  {
   "cell_type": "code",
   "execution_count": 13,
   "metadata": {
    "ExecuteTime": {
     "end_time": "2018-06-12T20:25:28.175091Z",
     "start_time": "2018-06-12T20:25:27.643301Z"
    }
   },
   "outputs": [],
   "source": [
    "with open('data_embedding_google.p', 'rb') as fp:\n",
    "    data = pickle.load(fp)"
   ]
  },
  {
   "cell_type": "code",
   "execution_count": 16,
   "metadata": {
    "ExecuteTime": {
     "end_time": "2018-06-12T20:26:23.659953Z",
     "start_time": "2018-06-12T20:26:23.656521Z"
    }
   },
   "outputs": [],
   "source": [
    "fea_wrong_words = counters"
   ]
  },
  {
   "cell_type": "code",
   "execution_count": 17,
   "metadata": {
    "ExecuteTime": {
     "end_time": "2018-06-12T20:28:48.736883Z",
     "start_time": "2018-06-12T20:28:48.730590Z"
    }
   },
   "outputs": [],
   "source": [
    "from sklearn.preprocessing import scale\n",
    "fea_wrong_words = scale(fea_wrong_words)"
   ]
  },
  {
   "cell_type": "code",
   "execution_count": 22,
   "metadata": {
    "ExecuteTime": {
     "end_time": "2018-06-12T20:30:45.093545Z",
     "start_time": "2018-06-12T20:30:45.088830Z"
    }
   },
   "outputs": [],
   "source": [
    "fea_wrong_ratio = [x/y for (x,y) in zip(counters, words_counts)] "
   ]
  },
  {
   "cell_type": "code",
   "execution_count": 24,
   "metadata": {
    "ExecuteTime": {
     "end_time": "2018-06-12T20:33:18.957125Z",
     "start_time": "2018-06-12T20:33:18.952362Z"
    }
   },
   "outputs": [],
   "source": [
    "fea_wrong_words = np.array(fea_wrong_words).reshape(9455, 1)\n",
    "fea_wrong_ratio = np.array(fea_wrong_ratio).reshape(9455, 1)"
   ]
  },
  {
   "cell_type": "code",
   "execution_count": 26,
   "metadata": {
    "ExecuteTime": {
     "end_time": "2018-06-12T20:34:17.506382Z",
     "start_time": "2018-06-12T20:34:17.489460Z"
    }
   },
   "outputs": [],
   "source": [
    "data = np.hstack((data, fea_wrong_words, fea_wrong_ratio))"
   ]
  },
  {
   "cell_type": "code",
   "execution_count": 27,
   "metadata": {
    "ExecuteTime": {
     "end_time": "2018-06-12T20:34:27.561946Z",
     "start_time": "2018-06-12T20:34:27.556475Z"
    }
   },
   "outputs": [
    {
     "data": {
      "text/plain": [
       "(9455, 302)"
      ]
     },
     "execution_count": 27,
     "metadata": {},
     "output_type": "execute_result"
    }
   ],
   "source": [
    "data.shape"
   ]
  },
  {
   "cell_type": "code",
   "execution_count": 28,
   "metadata": {
    "ExecuteTime": {
     "end_time": "2018-06-12T20:35:56.591130Z",
     "start_time": "2018-06-12T20:35:56.152223Z"
    }
   },
   "outputs": [],
   "source": [
    "with open('data_mod_contain_corrections.p', 'wb') as fp:\n",
    "    pickle.dump(data, fp, protocol=2)"
   ]
  },
  {
   "cell_type": "markdown",
   "metadata": {},
   "source": [
    "Data are stored in a dictionary named as `data`. The UCDSId is used to serve as the key of this dictionary, and the value is the detailed info encapsulated in a dictionary containing __essay__, __depression__, and __anxiety__."
   ]
  },
  {
   "cell_type": "code",
   "execution_count": 29,
   "metadata": {
    "ExecuteTime": {
     "end_time": "2018-06-01T21:19:50.937879Z",
     "start_time": "2018-06-01T21:19:50.879407Z"
    }
   },
   "outputs": [],
   "source": [
    "# save data to pickle file\n",
    "with open('data_modified.p', 'wb') as fp:\n",
    "    pickle.dump(data, fp, protocol=2)"
   ]
  },
  {
   "cell_type": "code",
   "execution_count": 30,
   "metadata": {
    "ExecuteTime": {
     "end_time": "2018-06-12T20:40:16.304126Z",
     "start_time": "2018-06-12T20:40:16.263096Z"
    }
   },
   "outputs": [],
   "source": [
    "#############################################\n",
    "df = pd.DataFrame.from_dict(data, orient='index')\n",
    "df = df.dropna()"
   ]
  },
  {
   "cell_type": "code",
   "execution_count": null,
   "metadata": {},
   "outputs": [],
   "source": [
    "#############################################\n",
    "# compute Word2Vec using Google pre-trained model\n",
    "X = df['essay']\n",
    "w2vec = gensim.models.KeyedVectors.load_word2vec_format('GoogleNews-vectors-negative300.bin.gz', binary=True)\n",
    "\n",
    "class MyTokenizer:\n",
    "    def __init__(self):\n",
    "        pass\n",
    "    \n",
    "    def fit(self, X, y=None):\n",
    "        return self\n",
    "    \n",
    "    def transform(self, X):\n",
    "        transformed_X = []\n",
    "        for document in X:\n",
    "            tokenized_doc = []\n",
    "            for sent in nltk.sent_tokenize(document):\n",
    "                tokenized_doc += nltk.word_tokenize(sent)\n",
    "            transformed_X.append(np.array(tokenized_doc))\n",
    "        return np.array(transformed_X)\n",
    "    \n",
    "    def fit_transform(self, X, y=None):\n",
    "        return self.transform(X)\n",
    "\n",
    "class MeanEmbeddingVectorizer(object):\n",
    "    def __init__(self, word2vec):\n",
    "        self.word2vec = word2vec\n",
    "        # if a text is empty we should return a vector of zeros\n",
    "        # with the same dimensionality as all the other vectors\n",
    "        self.dim = len(word2vec.wv.syn0[0])\n",
    "\n",
    "    def fit(self, X, y=None):\n",
    "        return self\n",
    "\n",
    "    def transform(self, X):\n",
    "        X = MyTokenizer().fit_transform(X)\n",
    "        \n",
    "        return np.array([\n",
    "            np.mean([self.word2vec.wv[w] for w in words if w in self.word2vec.wv]\n",
    "                    or [np.zeros(self.dim)], axis=0)\n",
    "            for words in X\n",
    "        ])\n",
    "    \n",
    "    def fit_transform(self, X, y=None):\n",
    "        return self.transform(X)\n",
    "\n",
    "mean_embedding_vectorizer = MeanEmbeddingVectorizer(w2vec)\n",
    "mean_embedded = mean_embedding_vectorizer.fit_transform(X)\n",
    "\n",
    "with open('data_embedding_google.p', 'wb') as fp:\n",
    "    pickle.dump(mean_embedded, fp, protocol=2)\n",
    "    \n",
    "# 生成的文档是data_embedding_google.p"
   ]
  },
  {
   "cell_type": "code",
   "execution_count": 31,
   "metadata": {
    "ExecuteTime": {
     "end_time": "2018-06-12T20:41:12.565118Z",
     "start_time": "2018-06-12T20:41:12.340827Z"
    }
   },
   "outputs": [],
   "source": [
    "with open('data_mod_contain_corrections.p', 'rb') as fp:\n",
    "    data = pickle.load(fp)"
   ]
  },
  {
   "cell_type": "code",
   "execution_count": 32,
   "metadata": {
    "ExecuteTime": {
     "end_time": "2018-06-12T20:41:19.805621Z",
     "start_time": "2018-06-12T20:41:19.793954Z"
    }
   },
   "outputs": [
    {
     "data": {
      "text/plain": [
       "(9455, 302)"
      ]
     },
     "execution_count": 32,
     "metadata": {},
     "output_type": "execute_result"
    }
   ],
   "source": [
    "data.shape"
   ]
  },
  {
   "cell_type": "code",
   "execution_count": 33,
   "metadata": {
    "ExecuteTime": {
     "end_time": "2018-06-12T20:41:37.895293Z",
     "start_time": "2018-06-12T20:41:37.872132Z"
    }
   },
   "outputs": [],
   "source": [
    "# with open('data_embedding_google.p', 'rb') as fp:\n",
    "#     data = pickle.load(fp)\n",
    "threshold = 0\n",
    "X_train, X_test, y_train, y_test = train_test_split(data, df['depression'], test_size = 0.2, random_state=49)\n",
    "y_test = [1 if x > threshold else 0 for x in y_test.values.tolist()]\n",
    "y_train = [1 if x > threshold else 0 for x in y_train.values.tolist()]"
   ]
  },
  {
   "cell_type": "code",
   "execution_count": 6,
   "metadata": {
    "ExecuteTime": {
     "end_time": "2018-06-08T18:32:11.633560Z",
     "start_time": "2018-06-08T18:32:11.619823Z"
    }
   },
   "outputs": [],
   "source": [
    "threshold = 0\n",
    "X_train, X_test, y_train, y_test = train_test_split(df['essay'], df['depression'], test_size = 0.2, random_state=49)\n",
    "y_test = [1 if x > threshold else 0 for x in y_test.values.tolist()]\n",
    "y_train = [1 if x > threshold else 0 for x in y_train.values.tolist()]\n",
    "# y_train = [int(x) for x in y_train.values.tolist()]"
   ]
  },
  {
   "cell_type": "markdown",
   "metadata": {},
   "source": [
    "# Natural Language Processing"
   ]
  },
  {
   "cell_type": "markdown",
   "metadata": {
    "heading_collapsed": true
   },
   "source": [
    "## Bag of Words"
   ]
  },
  {
   "cell_type": "code",
   "execution_count": 25,
   "metadata": {
    "ExecuteTime": {
     "end_time": "2018-06-01T03:58:26.567679Z",
     "start_time": "2018-06-01T03:58:26.560066Z"
    },
    "hidden": true
   },
   "outputs": [],
   "source": [
    "count_vectorizer = CountVectorizer(\n",
    "    analyzer=\"word\", tokenizer=nltk.word_tokenize,\n",
    "    preprocessor=None, stop_words='english', max_features=None)    "
   ]
  },
  {
   "cell_type": "code",
   "execution_count": 26,
   "metadata": {
    "ExecuteTime": {
     "end_time": "2018-06-01T03:58:34.174295Z",
     "start_time": "2018-06-01T03:58:30.092461Z"
    },
    "hidden": true
   },
   "outputs": [
    {
     "name": "stdout",
     "output_type": "stream",
     "text": [
      "There are 21825 unique words in corpus.\n"
     ]
    }
   ],
   "source": [
    "bag_of_words = count_vectorizer.fit_transform(df['essay'])\n",
    "print(\"There are {0} unique words in corpus.\".format(len(count_vectorizer.get_feature_names())))"
   ]
  },
  {
   "cell_type": "code",
   "execution_count": 27,
   "metadata": {
    "ExecuteTime": {
     "end_time": "2018-06-01T03:58:39.398131Z",
     "start_time": "2018-06-01T03:58:38.095381Z"
    },
    "hidden": true
   },
   "outputs": [],
   "source": [
    "svd = TruncatedSVD(n_components=25, n_iter=25, random_state=12)\n",
    "truncated_bag_of_words = svd.fit_transform(bag_of_words)"
   ]
  },
  {
   "cell_type": "markdown",
   "metadata": {},
   "source": [
    "## Word2Vec"
   ]
  },
  {
   "cell_type": "markdown",
   "metadata": {},
   "source": [
    "### Word2Vec implementation"
   ]
  },
  {
   "cell_type": "code",
   "execution_count": 1,
   "metadata": {
    "ExecuteTime": {
     "end_time": "2018-06-08T18:39:45.073597Z",
     "start_time": "2018-06-08T18:39:45.042360Z"
    }
   },
   "outputs": [],
   "source": [
    "class MySentences(object):\n",
    "    \"\"\"MySentences is a generator to produce a list of tokenized sentences \n",
    "    \n",
    "    Takes a list of numpy arrays containing documents.\n",
    "    \n",
    "    Args:\n",
    "        arrays: List of arrays, where each element in the array contains a document.\n",
    "    \"\"\"\n",
    "    def __init__(self, *arrays):\n",
    "        self.arrays = arrays\n",
    " \n",
    "    def __iter__(self):\n",
    "        for array in self.arrays:\n",
    "            for document in array:\n",
    "                for sent in nltk.sent_tokenize(document):\n",
    "                    yield nltk.word_tokenize(sent)\n",
    "\n",
    "def get_word2vec(sentences, location):\n",
    "    \"\"\"Returns trained word2vec  \n",
    "    Args:\n",
    "        sentences: iterator for sentences    \n",
    "        location (str): Path to save/load word2vec\n",
    "    \"\"\"\n",
    "    if os.path.exists(location):\n",
    "        print('Found {}'.format(location))\n",
    "        model = gensim.models.Word2Vec.load(location)\n",
    "        return model\n",
    "    \n",
    "    print('{} not found. training model'.format(location))\n",
    "    model = gensim.models.Word2Vec(sentences, size=500, window=5, min_count=5, workers=4)\n",
    "    print('Model done training. Saving to disk')\n",
    "    model.save(location)\n",
    "    return model"
   ]
  },
  {
   "cell_type": "markdown",
   "metadata": {},
   "source": [
    "Train Word2Vec model and save to local disk, named as `w2vmodel`."
   ]
  },
  {
   "cell_type": "code",
   "execution_count": 86,
   "metadata": {
    "ExecuteTime": {
     "end_time": "2018-06-07T17:48:11.059130Z",
     "start_time": "2018-06-07T17:48:10.304267Z"
    }
   },
   "outputs": [
    {
     "name": "stdout",
     "output_type": "stream",
     "text": [
      "Found w2vmodel_modified_delete_numbers_500\n"
     ]
    }
   ],
   "source": [
    "w2vec = get_word2vec(MySentences(X_train.values, X_test.values),\n",
    "                     'w2vmodel_modified_delete_numbers_500')"
   ]
  },
  {
   "cell_type": "code",
   "execution_count": null,
   "metadata": {},
   "outputs": [],
   "source": [
    "model = gensim.models.KeyedVectors.load_word2vec_format('./model/GoogleNews-vectors-negative300.bin.gz', binary=True)"
   ]
  },
  {
   "cell_type": "markdown",
   "metadata": {},
   "source": [
    "Having a word2vec model, we then use it to transform each documents into a feature vector. In order to convert a document of multiple words into a single vector using trained word2vec, we take the word2vec of all words in the document, then take its mean."
   ]
  },
  {
   "cell_type": "code",
   "execution_count": 87,
   "metadata": {
    "ExecuteTime": {
     "end_time": "2018-06-07T17:48:18.407339Z",
     "start_time": "2018-06-07T17:48:18.355031Z"
    }
   },
   "outputs": [],
   "source": [
    "class MyTokenizer:\n",
    "    def __init__(self):\n",
    "        pass\n",
    "    \n",
    "    def fit(self, X, y=None):\n",
    "        return self\n",
    "    \n",
    "    def transform(self, X):\n",
    "        transformed_X = []\n",
    "        for document in X:\n",
    "            tokenized_doc = []\n",
    "            for sent in nltk.sent_tokenize(document):\n",
    "                tokenized_doc += nltk.word_tokenize(sent)\n",
    "            transformed_X.append(np.array(tokenized_doc))\n",
    "        return np.array(transformed_X)\n",
    "    \n",
    "    def fit_transform(self, X, y=None):\n",
    "        return self.transform(X)\n",
    "\n",
    "class MeanEmbeddingVectorizer(object):\n",
    "    def __init__(self, word2vec):\n",
    "        self.word2vec = word2vec\n",
    "        # if a text is empty we should return a vector of zeros\n",
    "        # with the same dimensionality as all the other vectors\n",
    "        self.dim = len(word2vec.wv.syn0[0])\n",
    "\n",
    "    def fit(self, X, y=None):\n",
    "        return self\n",
    "\n",
    "    def transform(self, X):\n",
    "        X = MyTokenizer().fit_transform(X)\n",
    "        \n",
    "        return np.array([\n",
    "            np.mean([self.word2vec.wv[w] for w in words if w in self.word2vec.wv]\n",
    "                    or [np.zeros(self.dim)], axis=0)\n",
    "            for words in X\n",
    "        ])\n",
    "    \n",
    "    def fit_transform(self, X, y=None):\n",
    "        return self.transform(X)"
   ]
  },
  {
   "cell_type": "markdown",
   "metadata": {
    "ExecuteTime": {
     "end_time": "2018-05-31T23:55:33.671378Z",
     "start_time": "2018-05-31T23:27:27.376Z"
    }
   },
   "source": [
    "Transform training data to `mean_embedded`."
   ]
  },
  {
   "cell_type": "code",
   "execution_count": 88,
   "metadata": {
    "ExecuteTime": {
     "end_time": "2018-06-07T17:48:27.077799Z",
     "start_time": "2018-06-07T17:48:21.118748Z"
    },
    "scrolled": true
   },
   "outputs": [
    {
     "name": "stderr",
     "output_type": "stream",
     "text": [
      "/opt/conda/lib/python3.6/site-packages/ipykernel_launcher.py:25: DeprecationWarning: Call to deprecated `syn0` (Attribute will be removed in 4.0.0, use self.wv.vectors instead).\n"
     ]
    }
   ],
   "source": [
    "w2vec = model\n",
    "mean_embedding_vectorizer = MeanEmbeddingVectorizer(w2vec)\n",
    "mean_embedded = mean_embedding_vectorizer.fit_transform(X_train)"
   ]
  },
  {
   "cell_type": "code",
   "execution_count": 89,
   "metadata": {
    "ExecuteTime": {
     "end_time": "2018-06-07T17:48:30.611642Z",
     "start_time": "2018-06-07T17:48:29.204713Z"
    }
   },
   "outputs": [],
   "source": [
    "test_embedded = mean_embedding_vectorizer.fit_transform(X_test)"
   ]
  },
  {
   "cell_type": "code",
   "execution_count": 58,
   "metadata": {
    "ExecuteTime": {
     "end_time": "2018-06-04T00:47:32.811443Z",
     "start_time": "2018-06-04T00:47:31.248470Z"
    }
   },
   "outputs": [
    {
     "name": "stdout",
     "output_type": "stream",
     "text": [
      "[nltk_data] Downloading package punkt to /home/jovyan/nltk_data...\n",
      "[nltk_data]   Unzipping tokenizers/punkt.zip.\n"
     ]
    },
    {
     "data": {
      "text/plain": [
       "True"
      ]
     },
     "execution_count": 58,
     "metadata": {},
     "output_type": "execute_result"
    }
   ],
   "source": [
    "nltk.download('punkt')"
   ]
  },
  {
   "cell_type": "code",
   "execution_count": 113,
   "metadata": {
    "ExecuteTime": {
     "end_time": "2018-06-13T23:05:23.131466Z",
     "start_time": "2018-06-13T23:05:23.127834Z"
    }
   },
   "outputs": [],
   "source": [
    "from sklearn.metrics.pairwise import cosine_similarity\n",
    "# cos = cosine_similarity(mean_embedded)"
   ]
  },
  {
   "cell_type": "code",
   "execution_count": 15,
   "metadata": {
    "ExecuteTime": {
     "end_time": "2018-06-06T02:44:59.110025Z",
     "start_time": "2018-06-06T02:43:40.212950Z"
    },
    "scrolled": false
   },
   "outputs": [
    {
     "name": "stderr",
     "output_type": "stream",
     "text": [
      "100%|██████████| 9455/9455 [00:18<00:00, 517.87it/s]\n"
     ]
    },
    {
     "name": "stdout",
     "output_type": "stream",
     "text": [
      "new round ...\n"
     ]
    },
    {
     "name": "stderr",
     "output_type": "stream",
     "text": [
      "100%|██████████| 9455/9455 [00:18<00:00, 513.55it/s]\n",
      "  0%|          | 25/9455 [00:00<00:37, 249.74it/s]"
     ]
    },
    {
     "name": "stdout",
     "output_type": "stream",
     "text": [
      "new round ...\n"
     ]
    },
    {
     "name": "stderr",
     "output_type": "stream",
     "text": [
      "100%|██████████| 9455/9455 [00:18<00:00, 520.64it/s]\n"
     ]
    }
   ],
   "source": [
    "origin = mean_embedding_vectorizer.fit_transform(df['essay'])\n",
    "label = [1 if x > 0 else 0 for x in df['depression'].values.tolist()]\n",
    "cos = cosine_similarity(origin)\n",
    "thres = 0.96\n",
    "\n",
    "pairs = []\n",
    "for i in tqdm(range(len(cos))):\n",
    "    for j in range(i, len(cos[0])):\n",
    "        if cos[i][j] > thres and i != j and label[i] != label[j]:\n",
    "            pairs.append((i,j))\n",
    "while(len(pairs) != 0):\n",
    "    print(\"new round ...\")\n",
    "    for p in pairs:\n",
    "        voters = [x for x in p]\n",
    "        ones = 0\n",
    "        for k,sim in enumerate(cos[p[0]]):\n",
    "            if sim > thres:\n",
    "                voters.append(k)\n",
    "                ones += label[k]\n",
    "        for k,sim in enumerate(cos[p[1]]):\n",
    "            if sim > thres:\n",
    "                voters.append(k)\n",
    "                ones += label[k]\n",
    "        new_label = 1 if ones/len(voters) > 0.5 else 0\n",
    "        for voter in voters:\n",
    "            label[voter] = new_label\n",
    "    pairs = []\n",
    "    for i in tqdm(range(len(cos))):\n",
    "        for j in range(i, len(cos[0])):\n",
    "            if cos[i][j] > thres and i != j and label[i] != label[j]:\n",
    "                pairs.append((i,j))"
   ]
  },
  {
   "cell_type": "code",
   "execution_count": 17,
   "metadata": {
    "ExecuteTime": {
     "end_time": "2018-06-06T02:46:58.822444Z",
     "start_time": "2018-06-06T02:46:58.816077Z"
    }
   },
   "outputs": [],
   "source": [
    "ori_label = [1 if x > 0 else 0 for x in df['depression'].values.tolist()]"
   ]
  },
  {
   "cell_type": "code",
   "execution_count": 18,
   "metadata": {
    "ExecuteTime": {
     "end_time": "2018-06-06T02:47:00.161993Z",
     "start_time": "2018-06-06T02:47:00.156064Z"
    }
   },
   "outputs": [],
   "source": [
    "a = [0 if x==y else 1 for (x,y) in zip(label, ori_label)]"
   ]
  },
  {
   "cell_type": "code",
   "execution_count": 19,
   "metadata": {
    "ExecuteTime": {
     "end_time": "2018-06-06T02:47:01.299598Z",
     "start_time": "2018-06-06T02:47:01.290892Z"
    }
   },
   "outputs": [
    {
     "data": {
      "text/plain": [
       "1040"
      ]
     },
     "execution_count": 19,
     "metadata": {},
     "output_type": "execute_result"
    }
   ],
   "source": [
    "sum(a)"
   ]
  },
  {
   "cell_type": "code",
   "execution_count": 113,
   "metadata": {
    "ExecuteTime": {
     "end_time": "2018-06-05T20:59:29.954009Z",
     "start_time": "2018-06-05T20:59:29.943502Z"
    }
   },
   "outputs": [],
   "source": [
    "with open('label_mod.p', 'wb') as fp:\n",
    "    pickle.dump(label, fp, protocol=2)"
   ]
  },
  {
   "cell_type": "code",
   "execution_count": 21,
   "metadata": {
    "ExecuteTime": {
     "end_time": "2018-06-06T02:48:07.283380Z",
     "start_time": "2018-06-06T02:48:07.272947Z"
    }
   },
   "outputs": [
    {
     "data": {
      "text/plain": [
       "3009"
      ]
     },
     "execution_count": 21,
     "metadata": {},
     "output_type": "execute_result"
    }
   ],
   "source": [
    "sum(label)"
   ]
  },
  {
   "cell_type": "code",
   "execution_count": 35,
   "metadata": {
    "ExecuteTime": {
     "end_time": "2018-06-06T02:56:29.522873Z",
     "start_time": "2018-06-06T02:56:29.503853Z"
    }
   },
   "outputs": [],
   "source": [
    "X_train, X_test, y_train, y_test = train_test_split(df['essay'], label, test_size = 0.2, random_state = 49)"
   ]
  },
  {
   "cell_type": "code",
   "execution_count": 100,
   "metadata": {
    "ExecuteTime": {
     "end_time": "2018-06-04T01:35:50.363178Z",
     "start_time": "2018-06-04T01:35:50.357733Z"
    },
    "scrolled": true
   },
   "outputs": [
    {
     "data": {
      "text/plain": [
       "'electric elder work place put steel big ocean liners tug boats put big tunnels liners fellow mass work groups fifty men started place know twenty men father boss canteen men cooks work beside father year months weeks day steady pay xxxxweek thursday nights work past nine clock work eight till five night peace time father pals go club ord bar come back little rest start work peace dinner time time go home get dinner get wash man goes work put clean clothes shave watch tellythe next day saturday get dayoff go kitchen breakfast go place see ran '"
      ]
     },
     "execution_count": 100,
     "metadata": {},
     "output_type": "execute_result"
    }
   ],
   "source": [
    "X_train[4274]"
   ]
  },
  {
   "cell_type": "code",
   "execution_count": 111,
   "metadata": {
    "ExecuteTime": {
     "end_time": "2018-06-13T23:05:01.172677Z",
     "start_time": "2018-06-13T23:05:01.162922Z"
    }
   },
   "outputs": [
    {
     "data": {
      "text/plain": [
       "(9455, 302)"
      ]
     },
     "execution_count": 111,
     "metadata": {},
     "output_type": "execute_result"
    }
   ],
   "source": [
    "data.shape"
   ]
  },
  {
   "cell_type": "code",
   "execution_count": 181,
   "metadata": {
    "ExecuteTime": {
     "end_time": "2018-06-13T23:41:08.076364Z",
     "start_time": "2018-06-13T23:40:47.105613Z"
    }
   },
   "outputs": [],
   "source": [
    "# origin = mean_embedding_vectorizer.fit_transform(df['essay'])\n",
    "origin = data\n",
    "y_train = df['depression'].values.tolist()\n",
    "cos = cosine_similarity(origin)\n",
    "counter = np.array([0] * 400).reshape(20, 20)\n",
    "index_to_delete = set([])\n",
    "for i in range(len(cos)):\n",
    "    for j in range(i, len(cos[0])):\n",
    "        if cos[i][j] > 0.95 and i != j and y_train[i] != y_train[j]:\n",
    "#             print(i,j, y_train[i], y_train[j])\n",
    "            counter[int(max(y_train[i], y_train[j]))][int(min(y_train[i], y_train[j]))] += 1\n",
    "            index_to_delete.add(i)\n",
    "            index_to_delete.add(j)"
   ]
  },
  {
   "cell_type": "code",
   "execution_count": 204,
   "metadata": {
    "ExecuteTime": {
     "end_time": "2018-06-14T00:48:59.441783Z",
     "start_time": "2018-06-14T00:48:59.427327Z"
    }
   },
   "outputs": [
    {
     "name": "stdout",
     "output_type": "stream",
     "text": [
      "    0\t    0\t    0\t    0\t    0\t    0\t    0\t    0\t    0\t    0\n",
      "52472\t    0\t    0\t    0\t    0\t    0\t    0\t    0\t    0\t    0\n",
      "31297\t12631\t    0\t    0\t    0\t    0\t    0\t    0\t    0\t    0\n",
      "22927\t 9546\t 5873\t    0\t    0\t    0\t    0\t    0\t    0\t    0\n",
      "11511\t 4830\t 2929\t 2274\t    0\t    0\t    0\t    0\t    0\t    0\n",
      " 5004\t 2019\t 1243\t  941\t  487\t    0\t    0\t    0\t    0\t    0\n",
      " 2659\t 1117\t  697\t  541\t  289\t  121\t    0\t    0\t    0\t    0\n",
      " 2786\t 1201\t  730\t  569\t  292\t  115\t   70\t    0\t    0\t    0\n",
      "  521\t  216\t  131\t   97\t   48\t   22\t   13\t   13\t    0\t    0\n",
      "  633\t  268\t  159\t  120\t   63\t   25\t   16\t   17\t    3\t    0\n",
      "    0\t    0\t    0\t    0\t    0\t    0\t    0\t    0\t    0\t    0\n",
      "    0\t    0\t    0\t    0\t    0\t    0\t    0\t    0\t    0\t    0\n",
      "    0\t    0\t    0\t    0\t    0\t    0\t    0\t    0\t    0\t    0\n",
      "    0\t    0\t    0\t    0\t    0\t    0\t    0\t    0\t    0\t    0\n",
      "    0\t    0\t    0\t    0\t    0\t    0\t    0\t    0\t    0\t    0\n",
      "    0\t    0\t    0\t    0\t    0\t    0\t    0\t    0\t    0\t    0\n",
      "    0\t    0\t    0\t    0\t    0\t    0\t    0\t    0\t    0\t    0\n",
      "    0\t    0\t    0\t    0\t    0\t    0\t    0\t    0\t    0\t    0\n",
      "    0\t    0\t    0\t    0\t    0\t    0\t    0\t    0\t    0\t    0\n",
      "    0\t    0\t    0\t    0\t    0\t    0\t    0\t    0\t    0\t    0\n"
     ]
    }
   ],
   "source": [
    "for i in counter:\n",
    "    print(\"{0:5d}\\t{1:5d}\\t{2:5d}\\t{3:5d}\\t{4:5d}\\t{5:5d}\\t{6:5d}\\t{7:5d}\\t{8:5d}\\t{9:5d}\".format(i[0], i[1], i[2],\\\n",
    "                                                                                                     i[3],i[4],i[5],\\\n",
    "                                                                                                     i[6],i[7],i[8],i[9]))"
   ]
  },
  {
   "cell_type": "code",
   "execution_count": 182,
   "metadata": {
    "ExecuteTime": {
     "end_time": "2018-06-13T23:41:10.404547Z",
     "start_time": "2018-06-13T23:41:10.163278Z"
    }
   },
   "outputs": [
    {
     "data": {
      "image/png": "[encoded data removed]",
      "text/plain": [
       "<Figure size 432x288 with 3 Axes>"
      ]
     },
     "metadata": {},
     "output_type": "display_data"
    }
   ],
   "source": [
    "fig = plt.figure()\n",
    "ax = fig.add_subplot(111)\n",
    "ax.set_title('# of pairs')\n",
    "plt.imshow(counter[:12,:12], cmap=\"GnBu\")\n",
    "ax.set_aspect('equal')\n",
    "\n",
    "cax = fig.add_axes([0.12, 0.1, 0.78, 0.8])\n",
    "cax.get_xaxis().set_visible(False)\n",
    "cax.get_yaxis().set_visible(False)\n",
    "cax.patch.set_alpha(0.3)\n",
    "cax.set_frame_on(False)\n",
    "plt.colorbar(orientation='vertical')\n",
    "plt.show()"
   ]
  },
  {
   "cell_type": "code",
   "execution_count": 183,
   "metadata": {
    "ExecuteTime": {
     "end_time": "2018-06-13T23:41:21.816641Z",
     "start_time": "2018-06-13T23:41:21.809210Z"
    }
   },
   "outputs": [
    {
     "data": {
      "text/plain": [
       "2694"
      ]
     },
     "execution_count": 183,
     "metadata": {},
     "output_type": "execute_result"
    }
   ],
   "source": [
    "len(index_to_delete)"
   ]
  },
  {
   "cell_type": "code",
   "execution_count": 184,
   "metadata": {
    "ExecuteTime": {
     "end_time": "2018-06-13T23:44:15.446775Z",
     "start_time": "2018-06-13T23:44:15.439683Z"
    }
   },
   "outputs": [],
   "source": [
    "ori_label = df['depression'].values.tolist()\n",
    "filtered_label = [ori_label[i] if (i not in index_to_delete) else -1 for i in range(len(ori_label))]"
   ]
  },
  {
   "cell_type": "code",
   "execution_count": 170,
   "metadata": {
    "ExecuteTime": {
     "end_time": "2018-06-13T23:37:27.282738Z",
     "start_time": "2018-06-13T23:37:27.262504Z"
    }
   },
   "outputs": [
    {
     "data": {
      "text/plain": [
       "(6761, 302)"
      ]
     },
     "execution_count": 170,
     "metadata": {},
     "output_type": "execute_result"
    }
   ],
   "source": [
    "filtered_data = []\n",
    "for i in range(len(data)):\n",
    "    if(i not in index_to_delete):\n",
    "        filtered_data.append(data[i])\n",
    "filtered_data = np.array(filtered_data)\n",
    "filtered_data.shape"
   ]
  },
  {
   "cell_type": "code",
   "execution_count": 171,
   "metadata": {
    "ExecuteTime": {
     "end_time": "2018-06-13T23:37:29.471594Z",
     "start_time": "2018-06-13T23:37:29.464151Z"
    }
   },
   "outputs": [],
   "source": [
    "ori_label = df['depression'].values.tolist()\n",
    "filtered_label = [ori_label[i] for i in range(len(ori_label)) if i not in index_to_delete]"
   ]
  },
  {
   "cell_type": "code",
   "execution_count": 186,
   "metadata": {
    "ExecuteTime": {
     "end_time": "2018-06-13T23:44:43.593820Z",
     "start_time": "2018-06-13T23:44:43.584868Z"
    }
   },
   "outputs": [
    {
     "data": {
      "text/plain": [
       "9455"
      ]
     },
     "execution_count": 186,
     "metadata": {},
     "output_type": "execute_result"
    }
   ],
   "source": [
    "len(filtered_label)"
   ]
  },
  {
   "cell_type": "code",
   "execution_count": 185,
   "metadata": {
    "ExecuteTime": {
     "end_time": "2018-06-13T23:44:38.495513Z",
     "start_time": "2018-06-13T23:44:38.466794Z"
    }
   },
   "outputs": [],
   "source": [
    "\n",
    "threshold = 0\n",
    "X_train, X_test, y_train, y_test = train_test_split(data, filtered_label, test_size = 0.2, random_state=49)\n",
    "y_test = [1 if x > threshold else x for x in y_test]\n",
    "y_train = [1 if x > threshold else x for x in y_train]"
   ]
  },
  {
   "cell_type": "markdown",
   "metadata": {},
   "source": [
    "### Training models"
   ]
  },
  {
   "cell_type": "markdown",
   "metadata": {},
   "source": [
    "#### Random Forest"
   ]
  },
  {
   "cell_type": "code",
   "execution_count": 187,
   "metadata": {
    "ExecuteTime": {
     "end_time": "2018-06-13T23:44:46.665617Z",
     "start_time": "2018-06-13T23:44:46.652961Z"
    }
   },
   "outputs": [],
   "source": [
    "clf = RandomForestClassifier(n_estimators=1000, max_depth=15, verbose=1, class_weight='balanced')"
   ]
  },
  {
   "cell_type": "code",
   "execution_count": 188,
   "metadata": {
    "ExecuteTime": {
     "end_time": "2018-06-13T23:46:18.872535Z",
     "start_time": "2018-06-13T23:44:48.171382Z"
    },
    "scrolled": false
   },
   "outputs": [
    {
     "name": "stderr",
     "output_type": "stream",
     "text": [
      "[Parallel(n_jobs=1)]: Done 1000 out of 1000 | elapsed:  1.5min finished\n"
     ]
    }
   ],
   "source": [
    "clf = clf.fit(X_train, y_train)"
   ]
  },
  {
   "cell_type": "code",
   "execution_count": 189,
   "metadata": {
    "ExecuteTime": {
     "end_time": "2018-06-13T23:46:55.162071Z",
     "start_time": "2018-06-13T23:46:54.612734Z"
    },
    "scrolled": false
   },
   "outputs": [
    {
     "name": "stderr",
     "output_type": "stream",
     "text": [
      "[Parallel(n_jobs=1)]: Done 1000 out of 1000 | elapsed:    0.5s finished\n"
     ]
    }
   ],
   "source": [
    "pred = clf.predict(X_test)"
   ]
  },
  {
   "cell_type": "code",
   "execution_count": 190,
   "metadata": {
    "ExecuteTime": {
     "end_time": "2018-06-13T23:46:56.590456Z",
     "start_time": "2018-06-13T23:46:56.584234Z"
    }
   },
   "outputs": [
    {
     "data": {
      "text/plain": [
       "3"
      ]
     },
     "execution_count": 190,
     "metadata": {},
     "output_type": "execute_result"
    }
   ],
   "source": [
    "clf.n_classes_"
   ]
  },
  {
   "cell_type": "code",
   "execution_count": 191,
   "metadata": {
    "ExecuteTime": {
     "end_time": "2018-06-13T23:46:58.355039Z",
     "start_time": "2018-06-13T23:46:58.351140Z"
    }
   },
   "outputs": [],
   "source": [
    "a = [ x==y for (x,y) in zip(pred.tolist(), y_test)]"
   ]
  },
  {
   "cell_type": "code",
   "execution_count": 192,
   "metadata": {
    "ExecuteTime": {
     "end_time": "2018-06-13T23:47:01.085195Z",
     "start_time": "2018-06-13T23:47:01.080275Z"
    },
    "scrolled": true
   },
   "outputs": [
    {
     "data": {
      "text/plain": [
       "0.6398730830248546"
      ]
     },
     "execution_count": 192,
     "metadata": {},
     "output_type": "execute_result"
    }
   ],
   "source": [
    "sum(a)/len(a)"
   ]
  },
  {
   "cell_type": "code",
   "execution_count": 193,
   "metadata": {
    "ExecuteTime": {
     "end_time": "2018-06-13T23:47:05.235744Z",
     "start_time": "2018-06-13T23:47:03.362557Z"
    },
    "scrolled": true
   },
   "outputs": [
    {
     "name": "stderr",
     "output_type": "stream",
     "text": [
      "[Parallel(n_jobs=1)]: Done 1000 out of 1000 | elapsed:    1.9s finished\n"
     ]
    },
    {
     "data": {
      "text/plain": [
       "0.9976203067160233"
      ]
     },
     "execution_count": 193,
     "metadata": {},
     "output_type": "execute_result"
    }
   ],
   "source": [
    "clf.score(X_train, y_train)"
   ]
  },
  {
   "cell_type": "code",
   "execution_count": 197,
   "metadata": {
    "ExecuteTime": {
     "end_time": "2018-06-13T23:54:34.093743Z",
     "start_time": "2018-06-13T23:54:32.987017Z"
    },
    "scrolled": true
   },
   "outputs": [
    {
     "name": "stderr",
     "output_type": "stream",
     "text": [
      "[Parallel(n_jobs=1)]: Done 1000 out of 1000 | elapsed:    0.5s finished\n",
      "[Parallel(n_jobs=1)]: Done 1000 out of 1000 | elapsed:    0.4s finished\n"
     ]
    },
    {
     "data": {
      "image/png": "[encoded data removed]",
      "text/plain": [
       "<Figure size 432x288 with 2 Axes>"
      ]
     },
     "metadata": {},
     "output_type": "display_data"
    }
   ],
   "source": [
    "probas = clf.predict_proba(X_test).tolist()\n",
    "pred_indices = np.argmax(probas, axis=1)\n",
    "# classes = np.array(range(clf.n_classes_))\n",
    "classes = np.array([-1,0,1])\n",
    "preds = classes[pred_indices]\n",
    "# true_labels = [int(x+1) for x in y_test]\n",
    "# print('Log loss: {}'.format(log_loss(classes[y_test], probas)))\n",
    "# print('Accuracy: {}'.format(accuracy_score(classes[y_test], preds)))\n",
    "skplt.plot_confusion_matrix(y_test, preds)\n",
    "# skplt.plot_confusion_matrix(true_labels, preds)\n",
    "probas = clf.predict_proba(X_test)"
   ]
  },
  {
   "cell_type": "code",
   "execution_count": 89,
   "metadata": {
    "ExecuteTime": {
     "end_time": "2018-06-13T21:30:48.189883Z",
     "start_time": "2018-06-13T21:30:48.010521Z"
    }
   },
   "outputs": [
    {
     "data": {
      "text/plain": [
       "<matplotlib.axes._subplots.AxesSubplot at 0x7f7350c0f6d8>"
      ]
     },
     "execution_count": 89,
     "metadata": {},
     "output_type": "execute_result"
    },
    {
     "data": {
      "image/png": "[encoded data removed]",
      "text/plain": [
       "<Figure size 432x288 with 2 Axes>"
      ]
     },
     "metadata": {},
     "output_type": "display_data"
    }
   ],
   "source": [
    "skplt.plot_confusion_matrix(classes[y_test], preds, normalize=True)"
   ]
  },
  {
   "cell_type": "code",
   "execution_count": 90,
   "metadata": {
    "ExecuteTime": {
     "end_time": "2018-06-13T21:30:52.021361Z",
     "start_time": "2018-06-13T21:30:51.740500Z"
    },
    "scrolled": true
   },
   "outputs": [
    {
     "data": {
      "text/plain": [
       "<matplotlib.axes._subplots.AxesSubplot at 0x7f7350e496a0>"
      ]
     },
     "execution_count": 90,
     "metadata": {},
     "output_type": "execute_result"
    },
    {
     "data": {
      "image/png": "[encoded data removed]",
      "text/plain": [
       "<Figure size 432x288 with 1 Axes>"
      ]
     },
     "metadata": {},
     "output_type": "display_data"
    }
   ],
   "source": [
    "import scikitplot\n",
    "scikitplot.metrics.plot_precision_recall(y_test, probas)"
   ]
  },
  {
   "cell_type": "code",
   "execution_count": 91,
   "metadata": {
    "ExecuteTime": {
     "end_time": "2018-06-13T21:30:55.330792Z",
     "start_time": "2018-06-13T21:30:55.058988Z"
    },
    "scrolled": true
   },
   "outputs": [
    {
     "data": {
      "text/plain": [
       "<matplotlib.axes._subplots.AxesSubplot at 0x7f7350d30e10>"
      ]
     },
     "execution_count": 91,
     "metadata": {},
     "output_type": "execute_result"
    },
    {
     "data": {
      "image/png": "[encoded data removed]",
      "text/plain": [
       "<Figure size 432x288 with 1 Axes>"
      ]
     },
     "metadata": {},
     "output_type": "display_data"
    }
   ],
   "source": [
    "scikitplot.metrics.plot_roc(y_test, probas)"
   ]
  },
  {
   "cell_type": "markdown",
   "metadata": {},
   "source": [
    "#### XGBoost"
   ]
  },
  {
   "cell_type": "code",
   "execution_count": 44,
   "metadata": {
    "ExecuteTime": {
     "end_time": "2018-06-12T20:44:42.639710Z",
     "start_time": "2018-06-12T20:44:42.626467Z"
    }
   },
   "outputs": [],
   "source": [
    "def xgboost_plst():\n",
    "    param = {}\n",
    "    param['max_depth']= 2   # depth of tree\n",
    "    param['eta'] = 0.3      # shrinkage parameter\n",
    "    param['silent'] = 1     # not silent\n",
    "    param['objective'] = 'binary:logistic'\n",
    "    param['nthread'] = 7 # Number of threads used\n",
    "    param['eval_metric'] = 'logloss'\n",
    "\n",
    "    plst = param.items()\n",
    "    return plst"
   ]
  },
  {
   "cell_type": "code",
   "execution_count": 99,
   "metadata": {
    "ExecuteTime": {
     "end_time": "2018-06-13T22:00:54.804455Z",
     "start_time": "2018-06-13T22:00:39.019899Z"
    },
    "scrolled": true
   },
   "outputs": [],
   "source": [
    "mean_embedded = X_train\n",
    "test_embedded = X_test\n",
    "dtrain = xgb.DMatrix(mean_embedded, label=np.array(y_train))\n",
    "dtest = xgb.DMatrix(test_embedded, label=np.array(y_test))\n",
    "booster = xgb.train(xgboost_plst(), dtrain, 400)\n",
    "pred = booster.predict(dtest, output_margin=False, ntree_limit=booster.best_ntree_limit)"
   ]
  },
  {
   "cell_type": "code",
   "execution_count": 179,
   "metadata": {
    "ExecuteTime": {
     "end_time": "2018-06-01T22:37:31.377536Z",
     "start_time": "2018-06-01T22:37:30.347024Z"
    }
   },
   "outputs": [
    {
     "data": {
      "text/plain": [
       "<matplotlib.axes._subplots.AxesSubplot at 0x7f1e429cae80>"
      ]
     },
     "execution_count": 179,
     "metadata": {},
     "output_type": "execute_result"
    },
    {
     "data": {
      "image/png": "[encoded data removed]",
      "text/plain": [
       "<Figure size 432x288 with 1 Axes>"
      ]
     },
     "metadata": {},
     "output_type": "display_data"
    }
   ],
   "source": [
    "xgb.plot_importance(booster)"
   ]
  },
  {
   "cell_type": "code",
   "execution_count": 46,
   "metadata": {
    "ExecuteTime": {
     "end_time": "2018-06-12T20:45:03.947436Z",
     "start_time": "2018-06-12T20:45:03.942853Z"
    }
   },
   "outputs": [],
   "source": [
    "a = [(x - 0.5)*(y-0.5) > 0 for (x, y) in zip(pred.tolist(), y_test)]"
   ]
  },
  {
   "cell_type": "code",
   "execution_count": 47,
   "metadata": {
    "ExecuteTime": {
     "end_time": "2018-06-12T20:45:05.060531Z",
     "start_time": "2018-06-12T20:45:05.054337Z"
    },
    "scrolled": true
   },
   "outputs": [
    {
     "data": {
      "text/plain": [
       "0.6012691697514543"
      ]
     },
     "execution_count": 47,
     "metadata": {},
     "output_type": "execute_result"
    }
   ],
   "source": [
    "sum(a)/len(a)"
   ]
  },
  {
   "cell_type": "code",
   "execution_count": 48,
   "metadata": {
    "ExecuteTime": {
     "end_time": "2018-06-12T20:45:07.745389Z",
     "start_time": "2018-06-12T20:45:07.529011Z"
    }
   },
   "outputs": [
    {
     "name": "stderr",
     "output_type": "stream",
     "text": [
      "/opt/conda/lib/python3.6/site-packages/sklearn/utils/deprecation.py:77: DeprecationWarning: Function plot_confusion_matrix is deprecated; This will be removed in v0.4.0. Please use scikitplot.metrics.plot_confusion_matrix instead.\n",
      "  warnings.warn(msg, category=DeprecationWarning)\n",
      "/opt/conda/lib/python3.6/site-packages/matplotlib/cbook/deprecation.py:107: MatplotlibDeprecationWarning: Passing one of 'on', 'true', 'off', 'false' as a boolean is deprecated; use an actual boolean (True/False) instead.\n",
      "  warnings.warn(message, mplDeprecation, stacklevel=1)\n"
     ]
    },
    {
     "data": {
      "text/plain": [
       "<matplotlib.axes._subplots.AxesSubplot at 0x7f7350d351d0>"
      ]
     },
     "execution_count": 48,
     "metadata": {},
     "output_type": "execute_result"
    },
    {
     "data": {
      "image/png": "[encoded data removed]",
      "text/plain": [
       "<Figure size 432x288 with 2 Axes>"
      ]
     },
     "metadata": {},
     "output_type": "display_data"
    }
   ],
   "source": [
    "pred_indices = [1 if x < 0 else 0 for x in pred]\n",
    "# print('Log loss: {}'.format(log_loss(classes[y_test], pred)))\n",
    "# print('Accuracy: {}'.format(accuracy_score(classes[y_test], preds)))\n",
    "skplt.plot_confusion_matrix(y_test, pred_indices)"
   ]
  },
  {
   "cell_type": "markdown",
   "metadata": {},
   "source": [
    "#### Adaboost"
   ]
  },
  {
   "cell_type": "code",
   "execution_count": 198,
   "metadata": {
    "ExecuteTime": {
     "end_time": "2018-06-14T00:05:31.122479Z",
     "start_time": "2018-06-13T23:57:11.236681Z"
    },
    "scrolled": true
   },
   "outputs": [
    {
     "name": "stdout",
     "output_type": "stream",
     "text": [
      "0.6017979904812268\n",
      "Log loss: 1.0607553520541328\n",
      "Accuracy: 0.6017979904812268\n"
     ]
    },
    {
     "data": {
      "text/plain": [
       "<matplotlib.axes._subplots.AxesSubplot at 0x7f7350f00f98>"
      ]
     },
     "execution_count": 198,
     "metadata": {},
     "output_type": "execute_result"
    },
    {
     "data": {
      "image/png": "[encoded data removed]",
      "text/plain": [
       "<Figure size 432x288 with 2 Axes>"
      ]
     },
     "metadata": {},
     "output_type": "display_data"
    }
   ],
   "source": [
    "mean_embedded = X_train\n",
    "test_embedded = X_test\n",
    "from sklearn.ensemble import AdaBoostClassifier\n",
    "from sklearn.tree import DecisionTreeClassifier\n",
    "clf = AdaBoostClassifier(DecisionTreeClassifier(max_depth=2, class_weight='balanced'), algorithm=\"SAMME.R\", n_estimators=1000)\n",
    "clf = clf.fit(mean_embedded, y_train)\n",
    "pred = clf.predict(test_embedded)\n",
    "a = [ x==y for (x,y) in zip(pred.tolist(), y_test)]\n",
    "print(sum(a)/len(a))\n",
    "probas = clf.predict_proba(test_embedded).tolist()\n",
    "pred_indices = np.argmax(probas, axis=1)\n",
    "# classes = np.array(range(0, 2))\n",
    "classes = np.array([-1,0,1])\n",
    "preds = classes[pred_indices]\n",
    "print('Log loss: {}'.format(log_loss(y_test, probas)))\n",
    "print('Accuracy: {}'.format(accuracy_score(y_test, preds)))\n",
    "skplt.plot_confusion_matrix(y_test, preds)\n",
    "# print('Log loss: {}'.format(log_loss(classes[y_test], probas)))\n",
    "# print('Accuracy: {}'.format(accuracy_score(classes[y_test], preds)))\n",
    "# skplt.plot_confusion_matrix(classes[y_test], preds)"
   ]
  },
  {
   "cell_type": "code",
   "execution_count": 78,
   "metadata": {
    "ExecuteTime": {
     "end_time": "2018-06-12T21:03:01.682494Z",
     "start_time": "2018-06-12T21:02:59.855604Z"
    }
   },
   "outputs": [
    {
     "data": {
      "text/plain": [
       "1.0"
      ]
     },
     "execution_count": 78,
     "metadata": {},
     "output_type": "execute_result"
    }
   ],
   "source": [
    "clf.score(mean_embedded, y_train)"
   ]
  },
  {
   "cell_type": "code",
   "execution_count": 101,
   "metadata": {
    "ExecuteTime": {
     "end_time": "2018-06-13T22:10:56.756382Z",
     "start_time": "2018-06-13T22:10:56.537538Z"
    },
    "scrolled": false
   },
   "outputs": [
    {
     "data": {
      "text/plain": [
       "<matplotlib.axes._subplots.AxesSubplot at 0x7f7350d5bb00>"
      ]
     },
     "execution_count": 101,
     "metadata": {},
     "output_type": "execute_result"
    },
    {
     "data": {
      "image/png": "[encoded data removed]",
      "text/plain": [
       "<Figure size 432x288 with 2 Axes>"
      ]
     },
     "metadata": {},
     "output_type": "display_data"
    }
   ],
   "source": [
    "skplt.plot_confusion_matrix(classes[y_test], preds, normalize=True)"
   ]
  },
  {
   "cell_type": "code",
   "execution_count": 102,
   "metadata": {
    "ExecuteTime": {
     "end_time": "2018-06-13T22:11:10.189694Z",
     "start_time": "2018-06-13T22:11:09.671812Z"
    },
    "scrolled": true
   },
   "outputs": [
    {
     "data": {
      "text/plain": [
       "<matplotlib.axes._subplots.AxesSubplot at 0x7f7350bf2f28>"
      ]
     },
     "execution_count": 102,
     "metadata": {},
     "output_type": "execute_result"
    },
    {
     "data": {
      "image/png": "[encoded data removed]",
      "text/plain": [
       "<Figure size 432x288 with 1 Axes>"
      ]
     },
     "metadata": {},
     "output_type": "display_data"
    },
    {
     "data": {
      "image/png": "[encoded data removed]",
      "text/plain": [
       "<Figure size 432x288 with 1 Axes>"
      ]
     },
     "metadata": {},
     "output_type": "display_data"
    }
   ],
   "source": [
    "scikitplot.metrics.plot_precision_recall(y_test, probas)\n",
    "scikitplot.metrics.plot_roc(y_test, probas)"
   ]
  },
  {
   "cell_type": "markdown",
   "metadata": {},
   "source": [
    "#### Neural Network"
   ]
  },
  {
   "cell_type": "code",
   "execution_count": 48,
   "metadata": {
    "ExecuteTime": {
     "end_time": "2018-06-06T03:07:00.383419Z",
     "start_time": "2018-06-06T03:06:59.928906Z"
    },
    "scrolled": false
   },
   "outputs": [
    {
     "name": "stdout",
     "output_type": "stream",
     "text": [
      "## Training data file path\r\n",
      "training_data_path: ./Data/higgs_train_small.csv\r\n",
      "\r\n",
      "## Testing data file path\r\n",
      "test_data_path: ./Data/higgs_test_small.csv \r\n",
      "\r\n",
      "## Location in which you will save the pickle file containing predictions on test data\r\n",
      "output_predictions_pickle_path: ./Data/test_predictions.pkl\r\n",
      "\r\n",
      "## Location in which the ground truth test labels are stored\r\n",
      "gt_test_labels: ./Data/ground_truth_test_labels_small.pkl\r\n",
      "\r\n",
      "## How to split the input training data into train and validation sets. Value of 0.8 means that if there were initially 100 training examples in the input data, you should split them such that the first 80 are used as training examples and last 20 should be used for validation.\r\n",
      "training_to_validation_ratio: 0.8\r\n",
      "\r\n",
      "## the learning rate you should use for your optimizer \r\n",
      "learning_rate: 0.05\r\n",
      "\r\n",
      "## the total number of epochs or iterations to run over the (80) training examples\r\n",
      "epochs: 200\r\n",
      "\r\n",
      "## the number of mini batches in which you should split your (80) training examples. Continuing with our example, if this value is 10, then each mini batch will have 8 training examples.\r\n",
      "num_mini_batches: 10\r\n",
      "\r\n",
      "## this variable is for your own use to modify when you would like to print any debug statements inside your training loop. For example, a value of 5 may suggest that you should print the training loss, validation loss, training accuracy and validation accuracy every 5 epochs.\r\n",
      "display_step: 5 \r\n",
      "\r\n",
      "## the size of the network. If first_layer: 20 and second_layer: 8 then you should set the number of hidden units in first hidden layer and second layer to be 20 and 8 respectively.\r\n",
      "hidden_layer_sizes: \r\n",
      "    first_layer: 20\r\n",
      "    second_layer: 8\r\n",
      "\r\n",
      "## for grading purposes, you may ignore\r\n",
      "dataset_size: small"
     ]
    }
   ],
   "source": [
    "!cat nn_config.yaml "
   ]
  },
  {
   "cell_type": "code",
   "execution_count": 49,
   "metadata": {
    "ExecuteTime": {
     "end_time": "2018-06-12T20:45:35.252059Z",
     "start_time": "2018-06-12T20:45:35.247926Z"
    }
   },
   "outputs": [],
   "source": [
    "import warnings\n",
    "warnings.filterwarnings('ignore')"
   ]
  },
  {
   "cell_type": "code",
   "execution_count": 50,
   "metadata": {
    "ExecuteTime": {
     "end_time": "2018-06-12T20:45:36.499695Z",
     "start_time": "2018-06-12T20:45:36.493082Z"
    }
   },
   "outputs": [],
   "source": [
    "import tensorflow as tf\n",
    "from matplotlib import pyplot as plt\n",
    "\n",
    "## Pretty Print\n",
    "import pprint as pp"
   ]
  },
  {
   "cell_type": "code",
   "execution_count": 51,
   "metadata": {
    "ExecuteTime": {
     "end_time": "2018-06-12T20:45:38.911238Z",
     "start_time": "2018-06-12T20:45:38.899994Z"
    }
   },
   "outputs": [],
   "source": [
    "import yaml\n",
    "def import_config():\n",
    "    with open(\"nn_config.yaml\", 'r') as ymlfile:\n",
    "        try:\n",
    "            cfg = yaml.load(ymlfile)\n",
    "        except yaml.YAMLError as err:\n",
    "            print(err)\n",
    "    return cfg"
   ]
  },
  {
   "cell_type": "code",
   "execution_count": 52,
   "metadata": {
    "ExecuteTime": {
     "end_time": "2018-06-12T20:45:40.410903Z",
     "start_time": "2018-06-12T20:45:40.390271Z"
    }
   },
   "outputs": [
    {
     "name": "stdout",
     "output_type": "stream",
     "text": [
      "{'dataset_size': 'small',\n",
      " 'display_step': 5,\n",
      " 'epochs': 200,\n",
      " 'gt_test_labels': './Data/ground_truth_test_labels_small.pkl',\n",
      " 'hidden_layer_sizes': {'first_layer': 20, 'second_layer': 8},\n",
      " 'learning_rate': 0.05,\n",
      " 'num_mini_batches': 10,\n",
      " 'output_predictions_pickle_path': './Data/test_predictions.pkl',\n",
      " 'test_data_path': './Data/higgs_test_small.csv',\n",
      " 'training_data_path': './Data/higgs_train_small.csv',\n",
      " 'training_to_validation_ratio': 0.8}\n"
     ]
    }
   ],
   "source": [
    "cfg = import_config()\n",
    "\n",
    "## Is it loaded correctly?\n",
    "pp.pprint(cfg)"
   ]
  },
  {
   "cell_type": "code",
   "execution_count": 53,
   "metadata": {
    "ExecuteTime": {
     "end_time": "2018-06-12T20:45:43.169876Z",
     "start_time": "2018-06-12T20:45:43.163169Z"
    }
   },
   "outputs": [],
   "source": [
    "def standardize(data):\n",
    "    mu = np.mean(data, axis=0)\n",
    "    sigma = np.std(data, axis=0)\n",
    "    return (data - mu)/sigma"
   ]
  },
  {
   "cell_type": "code",
   "execution_count": 235,
   "metadata": {
    "ExecuteTime": {
     "end_time": "2018-06-14T02:49:07.731410Z",
     "start_time": "2018-06-14T02:49:07.728504Z"
    }
   },
   "outputs": [],
   "source": [
    "training_data = mean_embedded"
   ]
  },
  {
   "cell_type": "code",
   "execution_count": 274,
   "metadata": {
    "ExecuteTime": {
     "end_time": "2018-06-14T03:19:25.199845Z",
     "start_time": "2018-06-14T03:19:25.178570Z"
    }
   },
   "outputs": [
    {
     "name": "stdout",
     "output_type": "stream",
     "text": [
      "Total Training examples: 6051, Number of Batches: 10, Batch Size: 605\n"
     ]
    }
   ],
   "source": [
    "learning_rate = cfg['learning_rate']\n",
    "training_epochs = cfg['epochs'] * 10\n",
    "train_valid_split = cfg['training_to_validation_ratio']\n",
    "num_batches = cfg['num_mini_batches']\n",
    "display_step = cfg['display_step'] * 10\n",
    "\n",
    "num_examples= training_data.shape[0]\n",
    "\n",
    "# The first `num_train_examples` should be used for training, the rest for validation.\n",
    "num_train_examples = int(num_examples * train_valid_split)\n",
    "\n",
    "batch_size = num_train_examples/num_batches\n",
    "\n",
    "\n",
    "# Network Parameters\n",
    "n_hidden_1 = cfg['hidden_layer_sizes']['first_layer']*3 # 1st layer number of features\n",
    "n_hidden_2 = cfg['hidden_layer_sizes']['second_layer']*3 # 2nd layer number of features\n",
    "n_input = 302 \n",
    "n_classes = 3 \n",
    "\n",
    "\n",
    "print(\"Total Training examples: %d, Number of Batches: %d, Batch Size: %d\" %(num_train_examples,num_batches,batch_size))"
   ]
  },
  {
   "cell_type": "code",
   "execution_count": 275,
   "metadata": {
    "ExecuteTime": {
     "end_time": "2018-06-14T03:19:27.874105Z",
     "start_time": "2018-06-14T03:19:27.806336Z"
    }
   },
   "outputs": [],
   "source": [
    "# TF Graph input\n",
    "## Use the below placeholders appropriately inside the train_nn() function\n",
    "\n",
    "x = tf.placeholder(\"float\", [None, n_input])\n",
    "y = tf.placeholder(\"float\", [None, 3])\n",
    "n_hidden_3 = 5\n",
    "\n",
    "# Store layers weight & bias\n",
    "weights = {\n",
    "    'h1': tf.Variable(tf.random_normal([n_input, n_hidden_1])),\n",
    "    'h2': tf.Variable(tf.random_normal([n_hidden_1, n_hidden_2])),\n",
    "    'h3': tf.Variable(tf.random_normal([n_hidden_2, n_hidden_3])),\n",
    "    'out': tf.Variable(tf.random_normal([n_hidden_3, n_classes]))\n",
    "}\n",
    "\n",
    "biases = {\n",
    "    'b1': tf.Variable(tf.random_normal([n_hidden_1])),\n",
    "    'b2': tf.Variable(tf.random_normal([n_hidden_2])),\n",
    "    'b3': tf.Variable(tf.random_normal([n_hidden_3])),\n",
    "    'out': tf.Variable(tf.random_normal([n_classes]))\n",
    "}"
   ]
  },
  {
   "cell_type": "code",
   "execution_count": 276,
   "metadata": {
    "ExecuteTime": {
     "end_time": "2018-06-14T03:19:30.398048Z",
     "start_time": "2018-06-14T03:19:30.380557Z"
    }
   },
   "outputs": [],
   "source": [
    "def create_feedforward_nn_model(x, weights, biases):\n",
    "    # Hidden layer with SIGMOID activation\n",
    "    layer_1 = tf.add(tf.matmul(x, weights['h1']), biases['b1'])\n",
    "    layer_1 = tf.nn.sigmoid(layer_1)\n",
    "    layer_1 = tf.nn.dropout(layer_1, 0.5)\n",
    "    layer_2 = tf.add(tf.matmul(layer_1, weights['h2']), biases['b2'])\n",
    "    layer_2 = tf.nn.sigmoid(layer_2)\n",
    "    layer_2 = tf.nn.dropout(layer_2, 0.5)\n",
    "    layer_3 = tf.add(tf.matmul(layer_2, weights['h3']), biases['b3'])\n",
    "    layer_3 = tf.nn.sigmoid(layer_3)\n",
    "    out_layer = tf.add(tf.matmul(layer_3, weights['out']), biases['out'])\n",
    "    return out_layer"
   ]
  },
  {
   "cell_type": "code",
   "execution_count": 277,
   "metadata": {
    "ExecuteTime": {
     "end_time": "2018-06-14T03:19:32.856111Z",
     "start_time": "2018-06-14T03:19:32.535999Z"
    }
   },
   "outputs": [],
   "source": [
    "# Construct model\n",
    "def stitch_network(x, y, weights, biases, learning_rate):\n",
    "    \n",
    "    pred_raw = create_feedforward_nn_model(x, weights, biases)\n",
    "    pred = tf.round(tf.nn.sigmoid(pred_raw))\n",
    "    probas = tf.nn.sigmoid(pred_raw)\n",
    "    loss = tf.reduce_mean(tf.nn.sigmoid_cross_entropy_with_logits(logits=pred_raw, labels=y))\n",
    "    train_op = tf.train.AdamOptimizer(learning_rate=learning_rate).minimize(loss)\n",
    "    return pred_raw, pred, loss, train_op, probas\n",
    "\n",
    "\n",
    "pred_raw, pred, loss, train_op, probas = stitch_network(x, y, weights, biases, learning_rate)"
   ]
  },
  {
   "cell_type": "code",
   "execution_count": 278,
   "metadata": {
    "ExecuteTime": {
     "end_time": "2018-06-14T03:19:35.335082Z",
     "start_time": "2018-06-14T03:19:35.325997Z"
    }
   },
   "outputs": [],
   "source": [
    "init = tf.global_variables_initializer()"
   ]
  },
  {
   "cell_type": "code",
   "execution_count": 279,
   "metadata": {
    "ExecuteTime": {
     "end_time": "2018-06-14T03:19:42.509463Z",
     "start_time": "2018-06-14T03:19:42.332352Z"
    }
   },
   "outputs": [],
   "source": [
    "def train_nn():\n",
    "    with tf.Session() as sess:\n",
    "\n",
    "        sess.run(init)\n",
    "        \n",
    "        ## this is needed to print debug statements during training.\n",
    "        coord = tf.train.Coordinator()\n",
    "        threads = tf.train.start_queue_runners(coord=coord)\n",
    "\n",
    "        x_train, x_valid = features[:num_train_examples], features[num_train_examples:]\n",
    "        y_train, y_valid = labels[:num_train_examples], labels[num_train_examples:]\n",
    "\n",
    "        y_valid = y_valid.reshape(len(y_valid), 1)\n",
    "        y_valid = np.array([[0, 0, 1] if x == -1 else ([0, 1, 0] if x == 0 else [1, 0, 0]) for x in y_valid])\n",
    "        training_losses = []\n",
    "        training_accs = []\n",
    "\n",
    "        validation_losses = []\n",
    "        validation_accs = []\n",
    "        \n",
    "        \n",
    "        for epoch in range(training_epochs):\n",
    "            loss_counter = 0\n",
    "            correct_counter = 0\n",
    "            for num_batch in range(num_batches):\n",
    "                cur_features = x_train[int(num_batch * batch_size) : int(min(len(x_train), (num_batch + 1) * batch_size))]\n",
    "                cur_labels = y_train[int(num_batch * batch_size) : int(min(len(x_train), (num_batch + 1) * batch_size))]\n",
    "                cur_labels = cur_labels.reshape(len(cur_labels), 1)\n",
    "                cur_labels = np.array([[0, 0, 1] if x == -1 else ([0, 1, 0] if x == 0 else [1, 0, 0]) for x in cur_labels])\n",
    "                _, cur_loss, cur_pred = sess.run([train_op, loss, pred], feed_dict={x:cur_features, y:cur_labels})\n",
    "                loss_counter += cur_loss * len(cur_labels)\n",
    "#                 correct_counter += sum([1 if x==y else 0 for (x,y) in zip(cur_labels, cur_pred)])\n",
    "#             training_losses.append(np.float64(loss_counter/len(x_train)))\n",
    "#             training_accs.append(np.float64(correct_counter/len(x_train)))\n",
    "            \n",
    "            _, val_loss, val_pred = sess.run([train_op, loss, pred], feed_dict={x: x_valid, y: y_valid})\n",
    "            validation_losses.append(np.float64(val_loss))\n",
    "#             validation_accs.append(np.float64(sum([1 if x==y else 0 for (x,y) in zip(y_valid, val_pred)])/len(y_valid)))\n",
    "        \n",
    "#             if epoch%display_step==0:\n",
    "#                     print(\"Epoch {0} | Tr loss: {1} | Tr accuracy {2} | Va loss: {3} | Va accuracy: {4}\"\\\n",
    "#                           .format(epoch + 1,training_losses[epoch],training_accs[epoch],validation_losses[epoch], validation_accs[epoch]))       \n",
    "#         print(\"Optimization Finished!\")\n",
    "\n",
    "        test_predictions = []\n",
    "#         test_label = np.array[0] * len(test_features)\n",
    "#         test_label = test_label\n",
    "        test_pred, proba = sess.run([pred, probas], feed_dict={x: test_features})\n",
    "        test_predictions = np.float64(test_pred.T[0]) \n",
    "        \n",
    "        ## this is needed to print debug statements during training.\n",
    "        coord.request_stop()\n",
    "        coord.join(threads)\n",
    "    \n",
    "    ## close TF session if open\n",
    "    if 'session' in locals() and sess is not None:\n",
    "        print('Close interactive session')\n",
    "        sess.close()\n",
    "        \n",
    "    return training_losses, validation_losses, training_accs, validation_accs, test_predictions, proba"
   ]
  },
  {
   "cell_type": "code",
   "execution_count": 280,
   "metadata": {
    "ExecuteTime": {
     "end_time": "2018-06-14T03:21:43.340021Z",
     "start_time": "2018-06-14T03:19:55.187963Z"
    },
    "scrolled": false
   },
   "outputs": [],
   "source": [
    "# features = mean_embedded\n",
    "# labels = np.array(y_train)\n",
    "features = X_train\n",
    "labels = np.array(y_train)\n",
    "test_features = X_test\n",
    "# test_features = test_embedded\n",
    "training_losses, validation_losses, training_accs, validation_accs, test_predictions, probas = train_nn()"
   ]
  },
  {
   "cell_type": "code",
   "execution_count": 262,
   "metadata": {
    "ExecuteTime": {
     "end_time": "2018-06-14T03:04:19.973628Z",
     "start_time": "2018-06-14T03:04:19.953844Z"
    }
   },
   "outputs": [
    {
     "data": {
      "text/plain": [
       "array([[0, 0, 1],\n",
       "       [0, 0, 1],\n",
       "       [0, 0, 1],\n",
       "       ...,\n",
       "       [1, 0, 0],\n",
       "       [1, 0, 0],\n",
       "       [0, 1, 0]])"
      ]
     },
     "execution_count": 262,
     "metadata": {},
     "output_type": "execute_result"
    }
   ],
   "source": [
    "np.array([[0, 0, 1] if x == -1 else ([0, 1, 0] if x == 0 else [1, 0, 0]) for x in y_train])"
   ]
  },
  {
   "cell_type": "code",
   "execution_count": 264,
   "metadata": {
    "ExecuteTime": {
     "end_time": "2018-06-14T03:05:56.935597Z",
     "start_time": "2018-06-14T03:05:56.928896Z"
    }
   },
   "outputs": [
    {
     "data": {
      "text/plain": [
       "array([[ 2.27871593e-02,  6.77114651e-02,  5.01119671e-03, ...,\n",
       "        -3.35369110e-02,  2.20954519e+00,  1.98473282e-01],\n",
       "       [ 2.86758207e-02,  5.76537065e-02,  9.68414592e-04, ...,\n",
       "         6.18825387e-03, -1.13830750e-01,  8.41121495e-02],\n",
       "       [ 4.02552076e-02,  4.42559645e-02,  1.33529790e-02, ...,\n",
       "        -1.11250719e-02, -5.23838269e-01,  4.72440945e-02],\n",
       "       ...,\n",
       "       [ 4.48217019e-02,  7.46455938e-02,  1.37638813e-02, ...,\n",
       "        -5.20718545e-02, -3.87169096e-01,  3.72340426e-02],\n",
       "       [ 2.73261368e-02,  6.02077916e-02,  3.35738584e-02, ...,\n",
       "        -3.89851704e-02, -3.87169096e-01,  8.53658537e-02],\n",
       "       [-7.18688965e-03,  6.32413998e-02,  3.95512283e-02, ...,\n",
       "        -2.26064567e-02,  7.06184289e-01,  2.02702703e-01]])"
      ]
     },
     "execution_count": 264,
     "metadata": {},
     "output_type": "execute_result"
    }
   ],
   "source": [
    "X_test"
   ]
  },
  {
   "cell_type": "code",
   "execution_count": 282,
   "metadata": {
    "ExecuteTime": {
     "end_time": "2018-06-14T03:23:09.326632Z",
     "start_time": "2018-06-14T03:23:09.093390Z"
    }
   },
   "outputs": [
    {
     "data": {
      "text/plain": [
       "<matplotlib.axes._subplots.AxesSubplot at 0x7f7350e114e0>"
      ]
     },
     "execution_count": 282,
     "metadata": {},
     "output_type": "execute_result"
    },
    {
     "data": {
      "image/png": "[encoded data removed]",
      "text/plain": [
       "<Figure size 432x288 with 2 Axes>"
      ]
     },
     "metadata": {},
     "output_type": "display_data"
    }
   ],
   "source": [
    "classes = np.array([1,0,-1])\n",
    "test_predictions = classes[np.argmax(probas, axis = 1)]\n",
    "skplt.plot_confusion_matrix(y_test, test_predictions)"
   ]
  },
  {
   "cell_type": "code",
   "execution_count": 284,
   "metadata": {
    "ExecuteTime": {
     "end_time": "2018-06-14T03:24:33.336495Z",
     "start_time": "2018-06-14T03:24:33.329539Z"
    }
   },
   "outputs": [],
   "source": [
    "a = [x == y for (x,y) in zip(y_test, test_predictions)]"
   ]
  },
  {
   "cell_type": "code",
   "execution_count": 285,
   "metadata": {
    "ExecuteTime": {
     "end_time": "2018-06-14T03:24:42.453963Z",
     "start_time": "2018-06-14T03:24:42.440084Z"
    }
   },
   "outputs": [
    {
     "data": {
      "text/plain": [
       "0.6335272342675833"
      ]
     },
     "execution_count": 285,
     "metadata": {},
     "output_type": "execute_result"
    }
   ],
   "source": [
    "sum(a)/len(a)"
   ]
  },
  {
   "cell_type": "code",
   "execution_count": 272,
   "metadata": {
    "ExecuteTime": {
     "end_time": "2018-06-14T03:11:58.126002Z",
     "start_time": "2018-06-14T03:11:58.115767Z"
    },
    "scrolled": true
   },
   "outputs": [
    {
     "data": {
      "text/plain": [
       "array([1, 0, 0, 0, 0, 0, 1, 0, 0, 0])"
      ]
     },
     "execution_count": 272,
     "metadata": {},
     "output_type": "execute_result"
    }
   ],
   "source": [
    "test_predictions[:10]"
   ]
  },
  {
   "cell_type": "code",
   "execution_count": 63,
   "metadata": {
    "ExecuteTime": {
     "end_time": "2018-06-12T20:49:03.066089Z",
     "start_time": "2018-06-12T20:49:03.058714Z"
    }
   },
   "outputs": [],
   "source": [
    "probas = [[x, 1-x] for x in probas]"
   ]
  },
  {
   "cell_type": "code",
   "execution_count": 64,
   "metadata": {
    "ExecuteTime": {
     "end_time": "2018-06-12T20:49:04.013090Z",
     "start_time": "2018-06-12T20:49:04.003486Z"
    }
   },
   "outputs": [],
   "source": [
    "probas = [[x[0][0], x[1][0]] for x in probas]"
   ]
  },
  {
   "cell_type": "code",
   "execution_count": 65,
   "metadata": {
    "ExecuteTime": {
     "end_time": "2018-06-12T20:49:06.841842Z",
     "start_time": "2018-06-12T20:49:06.835517Z"
    }
   },
   "outputs": [],
   "source": [
    "probas = np.array(probas)"
   ]
  },
  {
   "cell_type": "code",
   "execution_count": 66,
   "metadata": {
    "ExecuteTime": {
     "end_time": "2018-06-12T20:49:07.769776Z",
     "start_time": "2018-06-12T20:49:07.763942Z"
    }
   },
   "outputs": [],
   "source": [
    "probas = probas.tolist()"
   ]
  },
  {
   "cell_type": "code",
   "execution_count": 67,
   "metadata": {
    "ExecuteTime": {
     "end_time": "2018-06-12T20:49:08.669072Z",
     "start_time": "2018-06-12T20:49:08.662946Z"
    }
   },
   "outputs": [],
   "source": [
    "probas = [[x[1], x[0]] for x in probas]"
   ]
  },
  {
   "cell_type": "code",
   "execution_count": 68,
   "metadata": {
    "ExecuteTime": {
     "end_time": "2018-06-12T20:49:10.432461Z",
     "start_time": "2018-06-12T20:49:10.425984Z"
    }
   },
   "outputs": [],
   "source": [
    "def plot_loss_vs_epochs(training_losses, validation_losses):\n",
    "    plt.title(\"loss vs epochs\")\n",
    "    plt.plot(training_losses)\n",
    "    plt.plot(validation_losses)\n",
    "    plt.legend([\"training\",\"validation\"])"
   ]
  },
  {
   "cell_type": "code",
   "execution_count": 69,
   "metadata": {
    "ExecuteTime": {
     "end_time": "2018-06-12T20:49:11.268430Z",
     "start_time": "2018-06-12T20:49:11.263694Z"
    }
   },
   "outputs": [],
   "source": [
    "def plot_acc_vs_epochs(training_acc, validation_acc):\n",
    "    plt.title(\"accuracy vs epochs\")\n",
    "    plt.plot(training_acc)\n",
    "    plt.plot(validation_acc)\n",
    "    plt.legend([\"training\",\"validation\"])"
   ]
  },
  {
   "cell_type": "code",
   "execution_count": 70,
   "metadata": {
    "ExecuteTime": {
     "end_time": "2018-06-12T20:49:12.953109Z",
     "start_time": "2018-06-12T20:49:12.944251Z"
    }
   },
   "outputs": [],
   "source": [
    "def plots(training_losses, validation_losses, training_accs, validation_accs):\n",
    "    \n",
    "    fig = plt.figure(figsize=(20,10))\n",
    "    \n",
    "    plt.subplot(1,2,1)\n",
    "    plot_loss_vs_epochs(training_losses, validation_losses)\n",
    "    plt.subplot(1,2,2)\n",
    "    plot_acc_vs_epochs(training_accs, validation_accs)"
   ]
  },
  {
   "cell_type": "code",
   "execution_count": 71,
   "metadata": {
    "ExecuteTime": {
     "end_time": "2018-06-12T20:49:17.260315Z",
     "start_time": "2018-06-12T20:49:16.646118Z"
    },
    "scrolled": true
   },
   "outputs": [
    {
     "data": {
      "image/png": "[encoded data removed]",
      "text/plain": [
       "<Figure size 1440x720 with 2 Axes>"
      ]
     },
     "metadata": {},
     "output_type": "display_data"
    }
   ],
   "source": [
    "plots(training_losses, validation_losses, training_accs, validation_accs)"
   ]
  },
  {
   "cell_type": "code",
   "execution_count": 72,
   "metadata": {
    "ExecuteTime": {
     "end_time": "2018-06-12T20:49:29.813345Z",
     "start_time": "2018-06-12T20:49:29.807422Z"
    }
   },
   "outputs": [],
   "source": [
    "a = [1 if x==y else 0 for (x,y) in zip(test_predictions.tolist(), y_test)] "
   ]
  },
  {
   "cell_type": "code",
   "execution_count": 73,
   "metadata": {
    "ExecuteTime": {
     "end_time": "2018-06-12T20:49:30.845920Z",
     "start_time": "2018-06-12T20:49:30.839971Z"
    }
   },
   "outputs": [
    {
     "data": {
      "text/plain": [
       "0.5875198307773665"
      ]
     },
     "execution_count": 73,
     "metadata": {},
     "output_type": "execute_result"
    }
   ],
   "source": [
    "sum(a)/len(a)"
   ]
  },
  {
   "cell_type": "code",
   "execution_count": 74,
   "metadata": {
    "ExecuteTime": {
     "end_time": "2018-06-12T20:49:33.004104Z",
     "start_time": "2018-06-12T20:49:32.807642Z"
    },
    "scrolled": true
   },
   "outputs": [
    {
     "data": {
      "text/plain": [
       "<matplotlib.axes._subplots.AxesSubplot at 0x7f7350cace48>"
      ]
     },
     "execution_count": 74,
     "metadata": {},
     "output_type": "execute_result"
    },
    {
     "data": {
      "image/png": "[encoded data removed]",
      "text/plain": [
       "<Figure size 432x288 with 2 Axes>"
      ]
     },
     "metadata": {},
     "output_type": "display_data"
    }
   ],
   "source": [
    "skplt.plot_confusion_matrix(y_test, test_predictions.tolist())"
   ]
  },
  {
   "cell_type": "code",
   "execution_count": 75,
   "metadata": {
    "ExecuteTime": {
     "end_time": "2018-06-12T20:49:40.092305Z",
     "start_time": "2018-06-12T20:49:39.854950Z"
    },
    "scrolled": false
   },
   "outputs": [
    {
     "data": {
      "text/plain": [
       "<matplotlib.axes._subplots.AxesSubplot at 0x7f7350cbff60>"
      ]
     },
     "execution_count": 75,
     "metadata": {},
     "output_type": "execute_result"
    },
    {
     "data": {
      "image/png": "[encoded data removed]",
      "text/plain": [
       "<Figure size 432x288 with 1 Axes>"
      ]
     },
     "metadata": {},
     "output_type": "display_data"
    }
   ],
   "source": [
    "scikitplot.metrics.plot_precision_recall(y_test, probas)"
   ]
  },
  {
   "cell_type": "code",
   "execution_count": 76,
   "metadata": {
    "ExecuteTime": {
     "end_time": "2018-06-12T20:49:43.306474Z",
     "start_time": "2018-06-12T20:49:43.019014Z"
    },
    "scrolled": true
   },
   "outputs": [
    {
     "data": {
      "text/plain": [
       "<matplotlib.axes._subplots.AxesSubplot at 0x7f7350c4d048>"
      ]
     },
     "execution_count": 76,
     "metadata": {},
     "output_type": "execute_result"
    },
    {
     "data": {
      "image/png": "[encoded data removed]",
      "text/plain": [
       "<Figure size 432x288 with 1 Axes>"
      ]
     },
     "metadata": {},
     "output_type": "display_data"
    }
   ],
   "source": [
    "scikitplot.metrics.plot_roc(y_test, probas)"
   ]
  },
  {
   "cell_type": "markdown",
   "metadata": {},
   "source": [
    "## LSTM"
   ]
  },
  {
   "cell_type": "code",
   "execution_count": 106,
   "metadata": {
    "ExecuteTime": {
     "end_time": "2018-06-13T22:47:01.431513Z",
     "start_time": "2018-06-13T22:47:01.409117Z"
    }
   },
   "outputs": [
    {
     "ename": "AttributeError",
     "evalue": "'numpy.ndarray' object has no attribute 'values'",
     "output_type": "error",
     "traceback": [
      "\u001b[0;31m---------------------------------------------------------------------------\u001b[0m",
      "\u001b[0;31mAttributeError\u001b[0m                            Traceback (most recent call last)",
      "\u001b[0;32m<ipython-input-106-58562a3e25df>\u001b[0m in \u001b[0;36m<module>\u001b[0;34m()\u001b[0m\n\u001b[1;32m      2\u001b[0m \u001b[0mnum_words\u001b[0m \u001b[0;34m=\u001b[0m \u001b[0;36m2000\u001b[0m\u001b[0;34m\u001b[0m\u001b[0m\n\u001b[1;32m      3\u001b[0m \u001b[0mtokenizer\u001b[0m \u001b[0;34m=\u001b[0m \u001b[0mTokenizer\u001b[0m\u001b[0;34m(\u001b[0m\u001b[0mnum_words\u001b[0m\u001b[0;34m=\u001b[0m\u001b[0mnum_words\u001b[0m\u001b[0;34m)\u001b[0m\u001b[0;34m\u001b[0m\u001b[0m\n\u001b[0;32m----> 4\u001b[0;31m \u001b[0mtokenizer\u001b[0m\u001b[0;34m.\u001b[0m\u001b[0mfit_on_texts\u001b[0m\u001b[0;34m(\u001b[0m\u001b[0mX_train\u001b[0m\u001b[0;34m.\u001b[0m\u001b[0mvalues\u001b[0m\u001b[0;34m)\u001b[0m\u001b[0;34m\u001b[0m\u001b[0m\n\u001b[0m\u001b[1;32m      5\u001b[0m \u001b[0;31m# Pad the data\u001b[0m\u001b[0;34m\u001b[0m\u001b[0;34m\u001b[0m\u001b[0m\n\u001b[1;32m      6\u001b[0m \u001b[0mX\u001b[0m \u001b[0;34m=\u001b[0m \u001b[0mtokenizer\u001b[0m\u001b[0;34m.\u001b[0m\u001b[0mtexts_to_sequences\u001b[0m\u001b[0;34m(\u001b[0m\u001b[0mX_train\u001b[0m\u001b[0;34m.\u001b[0m\u001b[0mvalues\u001b[0m\u001b[0;34m)\u001b[0m\u001b[0;34m\u001b[0m\u001b[0m\n",
      "\u001b[0;31mAttributeError\u001b[0m: 'numpy.ndarray' object has no attribute 'values'"
     ]
    }
   ],
   "source": [
    "# Use the Keras tokenizer\n",
    "num_words = 2000\n",
    "tokenizer = Tokenizer(num_words=num_words)\n",
    "tokenizer.fit_on_texts(X_train.values)\n",
    "# Pad the data \n",
    "X = tokenizer.texts_to_sequences(X_train.values)\n",
    "X = pad_sequences(X, maxlen=2000)"
   ]
  },
  {
   "cell_type": "code",
   "execution_count": 107,
   "metadata": {
    "ExecuteTime": {
     "end_time": "2018-06-13T22:47:34.314155Z",
     "start_time": "2018-06-13T22:47:34.284536Z"
    },
    "scrolled": true
   },
   "outputs": [
    {
     "ename": "NameError",
     "evalue": "name 'X' is not defined",
     "output_type": "error",
     "traceback": [
      "\u001b[0;31m---------------------------------------------------------------------------\u001b[0m",
      "\u001b[0;31mNameError\u001b[0m                                 Traceback (most recent call last)",
      "\u001b[0;32m<ipython-input-107-6cc29d178d18>\u001b[0m in \u001b[0;36m<module>\u001b[0;34m()\u001b[0m\n\u001b[1;32m     11\u001b[0m \u001b[0;34m\u001b[0m\u001b[0m\n\u001b[1;32m     12\u001b[0m \u001b[0mmodel\u001b[0m \u001b[0;34m=\u001b[0m \u001b[0mSequential\u001b[0m\u001b[0;34m(\u001b[0m\u001b[0;34m)\u001b[0m\u001b[0;34m\u001b[0m\u001b[0m\n\u001b[0;32m---> 13\u001b[0;31m \u001b[0mmodel\u001b[0m\u001b[0;34m.\u001b[0m\u001b[0madd\u001b[0m\u001b[0;34m(\u001b[0m\u001b[0mEmbedding\u001b[0m\u001b[0;34m(\u001b[0m\u001b[0mnum_words\u001b[0m\u001b[0;34m,\u001b[0m \u001b[0membed_dim\u001b[0m\u001b[0;34m,\u001b[0m \u001b[0minput_length\u001b[0m \u001b[0;34m=\u001b[0m \u001b[0mX\u001b[0m\u001b[0;34m.\u001b[0m\u001b[0mshape\u001b[0m\u001b[0;34m[\u001b[0m\u001b[0;36m1\u001b[0m\u001b[0;34m]\u001b[0m\u001b[0;34m)\u001b[0m\u001b[0;34m)\u001b[0m\u001b[0;34m\u001b[0m\u001b[0m\n\u001b[0m\u001b[1;32m     14\u001b[0m \u001b[0mmodel\u001b[0m\u001b[0;34m.\u001b[0m\u001b[0madd\u001b[0m\u001b[0;34m(\u001b[0m\u001b[0mLSTM\u001b[0m\u001b[0;34m(\u001b[0m\u001b[0mlstm_out\u001b[0m\u001b[0;34m,\u001b[0m \u001b[0mrecurrent_dropout\u001b[0m\u001b[0;34m=\u001b[0m\u001b[0;36m0.5\u001b[0m\u001b[0;34m,\u001b[0m \u001b[0mdropout\u001b[0m\u001b[0;34m=\u001b[0m\u001b[0;36m0.5\u001b[0m\u001b[0;34m)\u001b[0m\u001b[0;34m)\u001b[0m\u001b[0;34m\u001b[0m\u001b[0m\n\u001b[1;32m     15\u001b[0m \u001b[0mmodel\u001b[0m\u001b[0;34m.\u001b[0m\u001b[0madd\u001b[0m\u001b[0;34m(\u001b[0m\u001b[0mDense\u001b[0m\u001b[0;34m(\u001b[0m\u001b[0;36m2\u001b[0m\u001b[0;34m,\u001b[0m\u001b[0mactivation\u001b[0m\u001b[0;34m=\u001b[0m\u001b[0;34m'softmax'\u001b[0m\u001b[0;34m)\u001b[0m\u001b[0;34m)\u001b[0m\u001b[0;34m\u001b[0m\u001b[0m\n",
      "\u001b[0;31mNameError\u001b[0m: name 'X' is not defined"
     ]
    }
   ],
   "source": [
    "# Build out our simple LSTM\n",
    "embed_dim = 128\n",
    "lstm_out = 196\n",
    "num_words = 2000\n",
    "# Model saving callback\n",
    "ckpt_callback = ModelCheckpoint('keras_model', \n",
    "                                 monitor='val_loss', \n",
    "                                 verbose=1, \n",
    "                                 save_best_only=True, \n",
    "                                 mode='auto')\n",
    "\n",
    "model = Sequential()\n",
    "model.add(Embedding(num_words, embed_dim, input_length = X.shape[1]))\n",
    "model.add(LSTM(lstm_out, recurrent_dropout=0.5, dropout=0.5))\n",
    "model.add(Dense(2,activation='softmax'))\n",
    "model.compile(loss = 'categorical_crossentropy', optimizer='adam', metrics = ['categorical_crossentropy'])\n",
    "print(model.summary())"
   ]
  },
  {
   "cell_type": "code",
   "execution_count": 25,
   "metadata": {
    "ExecuteTime": {
     "end_time": "2018-06-06T02:49:45.581061Z",
     "start_time": "2018-06-06T02:49:45.510822Z"
    }
   },
   "outputs": [
    {
     "name": "stdout",
     "output_type": "stream",
     "text": [
      "(6051, 2000) (6051, 2)\n",
      "(1513, 2000) (1513, 2)\n"
     ]
    }
   ],
   "source": [
    "# Y = np.array(y_train)\n",
    "Y = to_categorical(np.array(y_train))\n",
    "X_train, X_test, Y_train, Y_test = train_test_split(X, Y, test_size = 0.2, random_state = 42, stratify=Y)\n",
    "print(X_train.shape, Y_train.shape)\n",
    "print(X_test.shape, Y_test.shape)"
   ]
  },
  {
   "cell_type": "code",
   "execution_count": 151,
   "metadata": {
    "ExecuteTime": {
     "end_time": "2018-06-05T21:43:28.267572Z",
     "start_time": "2018-06-05T21:15:08.532569Z"
    },
    "scrolled": false
   },
   "outputs": [
    {
     "name": "stdout",
     "output_type": "stream",
     "text": [
      "Train on 4840 samples, validate on 1211 samples\n",
      "Epoch 1/3\n",
      "4840/4840 [==============================] - 564s 117ms/step - loss: 0.5634 - categorical_crossentropy: 0.5634 - val_loss: 0.5438 - val_categorical_crossentropy: 0.5438\n",
      "\n",
      "Epoch 00001: val_loss improved from inf to 0.54375, saving model to keras_model_mod\n",
      "Epoch 2/3\n",
      "4840/4840 [==============================] - 569s 118ms/step - loss: 0.5140 - categorical_crossentropy: 0.5140 - val_loss: 0.5407 - val_categorical_crossentropy: 0.5407\n",
      "\n",
      "Epoch 00002: val_loss improved from 0.54375 to 0.54070, saving model to keras_model_mod\n",
      "Epoch 3/3\n",
      "4840/4840 [==============================] - 564s 117ms/step - loss: 0.4712 - categorical_crossentropy: 0.4712 - val_loss: 0.5594 - val_categorical_crossentropy: 0.5594\n",
      "\n",
      "Epoch 00003: val_loss did not improve from 0.54070\n"
     ]
    }
   ],
   "source": [
    "batch_size = 32\n",
    "trained_model = model.fit(X_train, Y_train, epochs=3, batch_size=batch_size, validation_split=0.2, callbacks=[ckpt_callback])"
   ]
  },
  {
   "cell_type": "code",
   "execution_count": 26,
   "metadata": {
    "ExecuteTime": {
     "end_time": "2018-06-06T02:49:55.324028Z",
     "start_time": "2018-06-06T02:49:52.930169Z"
    }
   },
   "outputs": [],
   "source": [
    "trained_model = load_model('keras_model')"
   ]
  },
  {
   "cell_type": "code",
   "execution_count": 27,
   "metadata": {
    "ExecuteTime": {
     "end_time": "2018-06-06T02:50:33.770581Z",
     "start_time": "2018-06-06T02:49:57.895302Z"
    }
   },
   "outputs": [],
   "source": [
    "pred = trained_model.predict(X_test)"
   ]
  },
  {
   "cell_type": "code",
   "execution_count": 28,
   "metadata": {
    "ExecuteTime": {
     "end_time": "2018-06-06T02:53:00.282664Z",
     "start_time": "2018-06-06T02:50:35.785680Z"
    }
   },
   "outputs": [],
   "source": [
    "train_res = trained_model.predict(X_train)"
   ]
  },
  {
   "cell_type": "code",
   "execution_count": 154,
   "metadata": {
    "ExecuteTime": {
     "end_time": "2018-06-05T21:45:21.814553Z",
     "start_time": "2018-06-05T21:45:21.806394Z"
    }
   },
   "outputs": [
    {
     "data": {
      "text/plain": [
       "array([[0.6824952 , 0.31750488],\n",
       "       [0.58279204, 0.41720793],\n",
       "       [0.92767525, 0.0723248 ],\n",
       "       ...,\n",
       "       [0.92364746, 0.07635255],\n",
       "       [0.8594198 , 0.14058013],\n",
       "       [0.902439  , 0.09756105]], dtype=float32)"
      ]
     },
     "execution_count": 154,
     "metadata": {},
     "output_type": "execute_result"
    }
   ],
   "source": [
    "pred"
   ]
  },
  {
   "cell_type": "code",
   "execution_count": 29,
   "metadata": {
    "ExecuteTime": {
     "end_time": "2018-06-06T02:53:20.002166Z",
     "start_time": "2018-06-06T02:53:19.990369Z"
    }
   },
   "outputs": [
    {
     "data": {
      "text/plain": [
       "0.5713105271855892"
      ]
     },
     "execution_count": 29,
     "metadata": {},
     "output_type": "execute_result"
    }
   ],
   "source": [
    "probas = train_res\n",
    "pred_indices = np.argmax(probas, axis=1)\n",
    "classes = np.array(range(2))\n",
    "preds = classes[pred_indices]\n",
    "accuracy_score(classes[np.argmax(Y_train, axis=1)], preds)"
   ]
  },
  {
   "cell_type": "code",
   "execution_count": 30,
   "metadata": {
    "ExecuteTime": {
     "end_time": "2018-06-06T02:53:24.086308Z",
     "start_time": "2018-06-06T02:53:23.839727Z"
    },
    "scrolled": false
   },
   "outputs": [
    {
     "name": "stdout",
     "output_type": "stream",
     "text": [
      "Log loss: 0.6860036319029387\n",
      "Accuracy: 0.5426305353602116\n"
     ]
    },
    {
     "name": "stderr",
     "output_type": "stream",
     "text": [
      "/opt/conda/lib/python3.6/site-packages/sklearn/utils/deprecation.py:77: DeprecationWarning: Function plot_confusion_matrix is deprecated; This will be removed in v0.4.0. Please use scikitplot.metrics.plot_confusion_matrix instead.\n",
      "  warnings.warn(msg, category=DeprecationWarning)\n",
      "/opt/conda/lib/python3.6/site-packages/matplotlib/cbook/deprecation.py:107: MatplotlibDeprecationWarning: Passing one of 'on', 'true', 'off', 'false' as a boolean is deprecated; use an actual boolean (True/False) instead.\n",
      "  warnings.warn(message, mplDeprecation, stacklevel=1)\n"
     ]
    },
    {
     "data": {
      "text/plain": [
       "<matplotlib.axes._subplots.AxesSubplot at 0x7fca8dfde0f0>"
      ]
     },
     "execution_count": 30,
     "metadata": {},
     "output_type": "execute_result"
    },
    {
     "data": {
      "image/png": "[encoded data removed]",
      "text/plain": [
       "<Figure size 432x288 with 2 Axes>"
      ]
     },
     "metadata": {},
     "output_type": "display_data"
    }
   ],
   "source": [
    "probas = pred\n",
    "pred_indices = np.argmax(probas, axis=1)\n",
    "classes = np.array(range(2))\n",
    "preds = classes[pred_indices]\n",
    "print('Log loss: {}'.format(log_loss(classes[np.argmax(Y_test, axis=1)], probas)))\n",
    "print('Accuracy: {}'.format(accuracy_score(classes[np.argmax(Y_test, axis=1)], preds)))\n",
    "skplt.plot_confusion_matrix(classes[np.argmax(Y_test, axis=1)], preds)"
   ]
  },
  {
   "cell_type": "code",
   "execution_count": 382,
   "metadata": {
    "ExecuteTime": {
     "end_time": "2018-06-06T01:42:04.916944Z",
     "start_time": "2018-06-06T01:42:04.908901Z"
    }
   },
   "outputs": [
    {
     "data": {
      "text/plain": [
       "array([[0., 1.],\n",
       "       [1., 0.],\n",
       "       [0., 1.],\n",
       "       ...,\n",
       "       [1., 0.],\n",
       "       [0., 1.],\n",
       "       [1., 0.]], dtype=float32)"
      ]
     },
     "execution_count": 382,
     "metadata": {},
     "output_type": "execute_result"
    }
   ],
   "source": [
    "Y_test"
   ]
  },
  {
   "cell_type": "code",
   "execution_count": 384,
   "metadata": {
    "ExecuteTime": {
     "end_time": "2018-06-06T01:42:37.333287Z",
     "start_time": "2018-06-06T01:42:37.063011Z"
    }
   },
   "outputs": [
    {
     "data": {
      "text/plain": [
       "<matplotlib.axes._subplots.AxesSubplot at 0x7fbf16f5b198>"
      ]
     },
     "execution_count": 384,
     "metadata": {},
     "output_type": "execute_result"
    },
    {
     "data": {
      "image/png": "[encoded data removed]",
      "text/plain": [
       "<Figure size 432x288 with 1 Axes>"
      ]
     },
     "metadata": {},
     "output_type": "display_data"
    }
   ],
   "source": [
    "scikitplot.metrics.plot_precision_recall(Y_test[:,1], pred)"
   ]
  },
  {
   "cell_type": "code",
   "execution_count": 385,
   "metadata": {
    "ExecuteTime": {
     "end_time": "2018-06-06T01:43:17.337527Z",
     "start_time": "2018-06-06T01:43:17.069701Z"
    },
    "scrolled": true
   },
   "outputs": [
    {
     "data": {
      "text/plain": [
       "<matplotlib.axes._subplots.AxesSubplot at 0x7fbf18206b00>"
      ]
     },
     "execution_count": 385,
     "metadata": {},
     "output_type": "execute_result"
    },
    {
     "data": {
      "image/png": "[encoded data removed]",
      "text/plain": [
       "<Figure size 432x288 with 1 Axes>"
      ]
     },
     "metadata": {},
     "output_type": "display_data"
    }
   ],
   "source": [
    "scikitplot.metrics.plot_roc(Y_test[:,1], pred)"
   ]
  },
  {
   "cell_type": "markdown",
   "metadata": {},
   "source": [
    "# Load data from local files"
   ]
  },
  {
   "cell_type": "code",
   "execution_count": 16,
   "metadata": {
    "ExecuteTime": {
     "end_time": "2018-06-01T20:59:07.309560Z",
     "start_time": "2018-06-01T20:59:07.249423Z"
    }
   },
   "outputs": [],
   "source": [
    "with open('data_modified.p', 'rb') as fp:\n",
    "    data = pickle.load(fp)"
   ]
  },
  {
   "cell_type": "code",
   "execution_count": 4,
   "metadata": {
    "ExecuteTime": {
     "end_time": "2018-06-01T20:49:20.447964Z",
     "start_time": "2018-06-01T20:49:20.439236Z"
    }
   },
   "outputs": [
    {
     "data": {
      "text/plain": [
       "10221"
      ]
     },
     "execution_count": 4,
     "metadata": {},
     "output_type": "execute_result"
    }
   ],
   "source": [
    "len(data)"
   ]
  },
  {
   "cell_type": "code",
   "execution_count": 20,
   "metadata": {
    "ExecuteTime": {
     "end_time": "2018-05-31T04:25:41.387433Z",
     "start_time": "2018-05-31T04:25:20.307631Z"
    }
   },
   "outputs": [],
   "source": [
    "import numpy, scipy.io\n",
    "scipy.io.savemat('data.mat', mdict=data)"
   ]
  },
  {
   "cell_type": "code",
   "execution_count": 106,
   "metadata": {
    "ExecuteTime": {
     "end_time": "2018-06-01T22:05:05.285872Z",
     "start_time": "2018-06-01T22:04:36.574086Z"
    }
   },
   "outputs": [],
   "source": [
    "from sklearn.neural_network import MLPClassifier\n",
    "clf = MLPClassifier(solver='lbfgs', alpha=1e-5, hidden_layer_sizes=(500, 2), random_state=1)\n",
    "clf = clf.fit(mean_embedded, y_train)"
   ]
  },
  {
   "cell_type": "code",
   "execution_count": 107,
   "metadata": {
    "ExecuteTime": {
     "end_time": "2018-06-01T22:05:06.992140Z",
     "start_time": "2018-06-01T22:05:06.952513Z"
    }
   },
   "outputs": [
    {
     "data": {
      "text/plain": [
       "0.5552617662612375"
      ]
     },
     "execution_count": 107,
     "metadata": {},
     "output_type": "execute_result"
    }
   ],
   "source": [
    "pred = clf.predict(test_embedded)\n",
    "a = [ x==y for (x,y) in zip(pred.tolist(), y_test)]\n",
    "sum(a)/len(a)"
   ]
  },
  {
   "cell_type": "code",
   "execution_count": 201,
   "metadata": {
    "ExecuteTime": {
     "end_time": "2018-06-05T22:08:08.928804Z",
     "start_time": "2018-06-05T22:08:08.687758Z"
    },
    "scrolled": true
   },
   "outputs": [
    {
     "data": {
      "text/plain": [
       "<matplotlib.axes._subplots.AxesSubplot at 0x7fbf19ab8e48>"
      ]
     },
     "execution_count": 201,
     "metadata": {},
     "output_type": "execute_result"
    },
    {
     "data": {
      "image/png": "[encoded data removed]",
      "text/plain": [
       "<Figure size 432x288 with 1 Axes>"
      ]
     },
     "metadata": {},
     "output_type": "display_data"
    }
   ],
   "source": [
    "scikitplot.metrics.plot_precision_recall(y_test, probas)"
   ]
  },
  {
   "cell_type": "code",
   "execution_count": 108,
   "metadata": {
    "ExecuteTime": {
     "end_time": "2018-06-06T03:32:59.378421Z",
     "start_time": "2018-06-06T03:32:59.374501Z"
    }
   },
   "outputs": [],
   "source": [
    "import scikitplot"
   ]
  },
  {
   "cell_type": "code",
   "execution_count": 79,
   "metadata": {
    "ExecuteTime": {
     "end_time": "2018-06-07T04:12:16.909115Z",
     "start_time": "2018-06-07T04:12:16.898662Z"
    }
   },
   "outputs": [
    {
     "name": "stdout",
     "output_type": "stream",
     "text": [
      "0.4046153846153846 0.48523985239852396 0.44127516778523485\n"
     ]
    }
   ],
   "source": [
    "\n",
    "a = 263/(263+387)\n",
    "b = 263/(263+279)\n",
    "print(a, b, 2*a*b/(a+b))"
   ]
  }
 ],
 "metadata": {
  "kernelspec": {
   "display_name": "Python 3",
   "language": "python",
   "name": "python3"
  },
  "language_info": {
   "codemirror_mode": {
    "name": "ipython",
    "version": 3
   },
   "file_extension": ".py",
   "mimetype": "text/x-python",
   "name": "python",
   "nbconvert_exporter": "python",
   "pygments_lexer": "ipython3",
   "version": "3.6.5"
  },
  "toc": {
   "base_numbering": 1,
   "nav_menu": {},
   "number_sections": true,
   "sideBar": true,
   "skip_h1_title": false,
   "title_cell": "Table of Contents",
   "title_sidebar": "Contents",
   "toc_cell": false,
   "toc_position": {},
   "toc_section_display": true,
   "toc_window_display": false
  },
  "varInspector": {
   "cols": {
    "lenName": 16,
    "lenType": 16,
    "lenVar": 40
   },
   "kernels_config": {
    "python": {
     "delete_cmd_postfix": "",
     "delete_cmd_prefix": "del ",
     "library": "var_list.py",
     "varRefreshCmd": "print(var_dic_list())"
    },
    "r": {
     "delete_cmd_postfix": ") ",
     "delete_cmd_prefix": "rm(",
     "library": "var_list.r",
     "varRefreshCmd": "cat(var_dic_list()) "
    }
   },
   "types_to_exclude": [
    "module",
    "function",
    "builtin_function_or_method",
    "instance",
    "_Feature"
   ],
   "window_display": false
  }
 },
 "nbformat": 4,
 "nbformat_minor": 2
}
